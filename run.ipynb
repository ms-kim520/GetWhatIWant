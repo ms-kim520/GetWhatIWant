{
 "metadata": {
  "language_info": {
   "codemirror_mode": {
    "name": "ipython",
    "version": 3
   },
   "file_extension": ".py",
   "mimetype": "text/x-python",
   "name": "python",
   "nbconvert_exporter": "python",
   "pygments_lexer": "ipython3",
   "version": 3
  },
  "orig_nbformat": 2,
  "kernelspec": {
   "name": "python_defaultSpec_1597049952455",
   "display_name": "Python 3.6.8 64-bit"
  }
 },
 "nbformat": 4,
 "nbformat_minor": 2,
 "cells": [
  {
   "cell_type": "code",
   "execution_count": 192,
   "metadata": {},
   "outputs": [],
   "source": [
    "import promed_collector as pc\n",
    "import promed_preprocessor as pp\n",
    "import extract_from_headline as efh\n",
    "\n",
    "import pandas as pd\n",
    "# import re"
   ]
  },
  {
   "cell_type": "code",
   "execution_count": 193,
   "metadata": {},
   "outputs": [],
   "source": [
    "discovered=pd.read_excel(\"./search_keyword.xlsx\",sheet_name=\"discovered\")\n",
    "undiscovered =pd.read_excel(\"./search_keyword.xlsx\",sheet_name=\"undiscovered\")\n",
    "\n",
    "discovered=discovered.DISCOVERED_DISEASE.tolist()\n",
    "undiscovered=undiscovered.UNDISCOVERED_DISEASE.tolist()"
   ]
  },
  {
   "cell_type": "code",
   "execution_count": 194,
   "metadata": {
    "tags": []
   },
   "outputs": [
    {
     "output_type": "display_data",
     "data": {
      "text/plain": "HBox(children=(FloatProgress(value=0.0, max=72.0), HTML(value='')))",
      "application/vnd.jupyter.widget-view+json": {
       "version_major": 2,
       "version_minor": 0,
       "model_id": "16b7cdb89f59490ea57413e25569e59d"
      }
     },
     "metadata": {}
    },
    {
     "output_type": "stream",
     "name": "stdout",
     "text": "\n"
    },
    {
     "output_type": "display_data",
     "data": {
      "text/plain": "HBox(children=(FloatProgress(value=0.0, max=2.0), HTML(value='')))",
      "application/vnd.jupyter.widget-view+json": {
       "version_major": 2,
       "version_minor": 0,
       "model_id": "64b074e0d3944d50890838c9649aa14e"
      }
     },
     "metadata": {}
    },
    {
     "output_type": "stream",
     "name": "stdout",
     "text": "\n"
    }
   ],
   "source": [
    "results1=pc.search_data(discovered,'07/01/2020','07/31/2020')\n",
    "results2=pc.search_data(undiscovered,'07/01/2020','07/31/2020')"
   ]
  },
  {
   "cell_type": "code",
   "execution_count": 199,
   "metadata": {},
   "outputs": [],
   "source": [
    "ttemp = pd.merge(df3,ddf,on='id')"
   ]
  },
  {
   "cell_type": "code",
   "execution_count": 202,
   "metadata": {},
   "outputs": [],
   "source": [
    "ttemp=ttemp[['id','headline_x','Source','keyword','date','body_y']]\n",
    "ttemp.to_csv(\"./promed_tableau.csv\",index=False)"
   ]
  },
  {
   "cell_type": "code",
   "execution_count": 184,
   "metadata": {},
   "outputs": [],
   "source": [
    "# results.head()"
   ]
  },
  {
   "cell_type": "code",
   "execution_count": 196,
   "metadata": {},
   "outputs": [],
   "source": [
    "ddf=pd.concat([results1,results2],axis=0)\n",
    "ddf.to_csv(\"./promed_pure.csv\",index=False)"
   ]
  },
  {
   "cell_type": "code",
   "execution_count": 186,
   "metadata": {},
   "outputs": [],
   "source": [
    "df1=pp.PreProcessing(results1)\n",
    "df2=pp.PreProcessing(results2)"
   ]
  },
  {
   "cell_type": "code",
   "execution_count": 15,
   "metadata": {},
   "outputs": [
    {
     "output_type": "execute_result",
     "data": {
      "text/plain": "        keyword       id                                           headline  \\\n0   lassa fever  7540787            lassa fever - west africa (21): nigeria   \n1        plague  7622263            plague - usa (02): (new mexico) bubonic   \n2        plague  7606707  plague - democratic republic of congo (07): (i...   \n3        plague  7591590  plague - mongolia (05): (hovd) bubonic, marmot...   \n4        plague  7586178                plague - usa: (colorado) septicemic   \n..          ...      ...                                                ...   \n59       rabies  7611925  rabies (22): americas (usa) cat, raccoon, fox,...   \n60       rabies  7611925  rabies (22): americas (usa) cat, raccoon, fox,...   \n61       rabies  7611925  rabies (22): americas (usa) cat, raccoon, fox,...   \n62       rabies  7567540  rabies (20): americas (usa, canada) animal, hu...   \n63       rabies  7567540  rabies (20): americas (usa, canada) animal, hu...   \n\n          date                                               body  \\\n0   2020-07-04   lassa fever lf situation report  epidemiologi...   \n1   2020-07-29   the new mexico department of health nmdoh is ...   \n2   2020-07-25   plague  democratic republic of the congo  the...   \n3   2020-07-20   a 6yearold child in uyench soum administrativ...   \n4   2020-07-18   a colorado resident was infected with the pla...   \n..         ...                                                ...   \n59  2020-07-25   two people were exposed to a rabid cat found ...   \n60  2020-07-25   the south carolina department of health and e...   \n61  2020-07-25   a north carolina woman had a scary encounter ...   \n62  2020-07-12   cattle rarely contract rabies but some states...   \n63  2020-07-12   last week 2 new brunswick children received p...   \n\n                PubDate                                             Source  \n0   2020-06-28 00:00:00  https://ncdc.gov.ng/diseases/sitreps/?cat=5&na...  \n1            2020-07-29  https://www.kob.com/albuquerque-news/new-mexic...  \n2   2020-06-12 00:00:00  https://www.who.int/csr/don/23-july-2020-plagu...  \n3   2020-07-17 00:00:00  http://unb.com.bd/category/world/bubonic-plagu...  \n4            2020-07-18  https://nypost.com/2020/07/17/first-human-case...  \n..                  ...                                                ...  \n59  2020-07-16 00:00:00  https://www.heraldonline.com/news/state/south-...  \n60           2020-07-25  https://www.live5news.com/2020/07/17/one-perso...  \n61  2020-07-19 00:00:00  https://www.wspa.com/news/state-news/north-car...  \n62           2020-07-12  https://www.bovinevetonline.com/article/3-stat...  \n63           2020-07-12  https://globalnews.ca/news/7163136/rabies-prev...  \n\n[64 rows x 7 columns]",
      "text/html": "<div>\n<style scoped>\n    .dataframe tbody tr th:only-of-type {\n        vertical-align: middle;\n    }\n\n    .dataframe tbody tr th {\n        vertical-align: top;\n    }\n\n    .dataframe thead th {\n        text-align: right;\n    }\n</style>\n<table border=\"1\" class=\"dataframe\">\n  <thead>\n    <tr style=\"text-align: right;\">\n      <th></th>\n      <th>keyword</th>\n      <th>id</th>\n      <th>headline</th>\n      <th>date</th>\n      <th>body</th>\n      <th>PubDate</th>\n      <th>Source</th>\n    </tr>\n  </thead>\n  <tbody>\n    <tr>\n      <th>0</th>\n      <td>lassa fever</td>\n      <td>7540787</td>\n      <td>lassa fever - west africa (21): nigeria</td>\n      <td>2020-07-04</td>\n      <td>lassa fever lf situation report  epidemiologi...</td>\n      <td>2020-06-28 00:00:00</td>\n      <td>https://ncdc.gov.ng/diseases/sitreps/?cat=5&amp;na...</td>\n    </tr>\n    <tr>\n      <th>1</th>\n      <td>plague</td>\n      <td>7622263</td>\n      <td>plague - usa (02): (new mexico) bubonic</td>\n      <td>2020-07-29</td>\n      <td>the new mexico department of health nmdoh is ...</td>\n      <td>2020-07-29</td>\n      <td>https://www.kob.com/albuquerque-news/new-mexic...</td>\n    </tr>\n    <tr>\n      <th>2</th>\n      <td>plague</td>\n      <td>7606707</td>\n      <td>plague - democratic republic of congo (07): (i...</td>\n      <td>2020-07-25</td>\n      <td>plague  democratic republic of the congo  the...</td>\n      <td>2020-06-12 00:00:00</td>\n      <td>https://www.who.int/csr/don/23-july-2020-plagu...</td>\n    </tr>\n    <tr>\n      <th>3</th>\n      <td>plague</td>\n      <td>7591590</td>\n      <td>plague - mongolia (05): (hovd) bubonic, marmot...</td>\n      <td>2020-07-20</td>\n      <td>a 6yearold child in uyench soum administrativ...</td>\n      <td>2020-07-17 00:00:00</td>\n      <td>http://unb.com.bd/category/world/bubonic-plagu...</td>\n    </tr>\n    <tr>\n      <th>4</th>\n      <td>plague</td>\n      <td>7586178</td>\n      <td>plague - usa: (colorado) septicemic</td>\n      <td>2020-07-18</td>\n      <td>a colorado resident was infected with the pla...</td>\n      <td>2020-07-18</td>\n      <td>https://nypost.com/2020/07/17/first-human-case...</td>\n    </tr>\n    <tr>\n      <th>...</th>\n      <td>...</td>\n      <td>...</td>\n      <td>...</td>\n      <td>...</td>\n      <td>...</td>\n      <td>...</td>\n      <td>...</td>\n    </tr>\n    <tr>\n      <th>59</th>\n      <td>rabies</td>\n      <td>7611925</td>\n      <td>rabies (22): americas (usa) cat, raccoon, fox,...</td>\n      <td>2020-07-25</td>\n      <td>two people were exposed to a rabid cat found ...</td>\n      <td>2020-07-16 00:00:00</td>\n      <td>https://www.heraldonline.com/news/state/south-...</td>\n    </tr>\n    <tr>\n      <th>60</th>\n      <td>rabies</td>\n      <td>7611925</td>\n      <td>rabies (22): americas (usa) cat, raccoon, fox,...</td>\n      <td>2020-07-25</td>\n      <td>the south carolina department of health and e...</td>\n      <td>2020-07-25</td>\n      <td>https://www.live5news.com/2020/07/17/one-perso...</td>\n    </tr>\n    <tr>\n      <th>61</th>\n      <td>rabies</td>\n      <td>7611925</td>\n      <td>rabies (22): americas (usa) cat, raccoon, fox,...</td>\n      <td>2020-07-25</td>\n      <td>a north carolina woman had a scary encounter ...</td>\n      <td>2020-07-19 00:00:00</td>\n      <td>https://www.wspa.com/news/state-news/north-car...</td>\n    </tr>\n    <tr>\n      <th>62</th>\n      <td>rabies</td>\n      <td>7567540</td>\n      <td>rabies (20): americas (usa, canada) animal, hu...</td>\n      <td>2020-07-12</td>\n      <td>cattle rarely contract rabies but some states...</td>\n      <td>2020-07-12</td>\n      <td>https://www.bovinevetonline.com/article/3-stat...</td>\n    </tr>\n    <tr>\n      <th>63</th>\n      <td>rabies</td>\n      <td>7567540</td>\n      <td>rabies (20): americas (usa, canada) animal, hu...</td>\n      <td>2020-07-12</td>\n      <td>last week 2 new brunswick children received p...</td>\n      <td>2020-07-12</td>\n      <td>https://globalnews.ca/news/7163136/rabies-prev...</td>\n    </tr>\n  </tbody>\n</table>\n<p>64 rows × 7 columns</p>\n</div>"
     },
     "metadata": {},
     "execution_count": 15
    }
   ],
   "source": [
    "df1"
   ]
  },
  {
   "cell_type": "code",
   "execution_count": 187,
   "metadata": {},
   "outputs": [],
   "source": [
    "df3 = pd.concat([df1,df2],axis=0)"
   ]
  },
  {
   "cell_type": "code",
   "execution_count": 188,
   "metadata": {},
   "outputs": [],
   "source": [
    "df3.reset_index(drop=True,inplace=True)\n",
    "df3 = df3[['id','headline','body','Source']]"
   ]
  },
  {
   "cell_type": "code",
   "execution_count": 91,
   "metadata": {},
   "outputs": [
    {
     "output_type": "execute_result",
     "data": {
      "text/plain": "         id                                           headline  \\\n0   7540787            lassa fever - west africa (21): nigeria   \n1   7622263            plague - usa (02): (new mexico) bubonic   \n2   7606707  plague - democratic republic of congo (07): (i...   \n3   7591590  plague - mongolia (05): (hovd) bubonic, marmot...   \n4   7586178                plague - usa: (colorado) septicemic   \n..      ...                                                ...   \n64  7614763  undiagnosed disease, cabbage - north korea: (s...   \n65  7565580  undiagnosed hemorrhagic fever - china (02): (g...   \n66  7547511         undiagnosed rust, maize - kenya: (baringo)   \n67  7537879  undiagnosed deaths, elephant - botswana (02): ...   \n68  7533835  undiagnosed deaths, elephant - botswana: reque...   \n\n                                                 body  \\\n0    lassa fever lf situation report  epidemiologi...   \n1    the new mexico department of health nmdoh is ...   \n2    plague  democratic republic of the congo  the...   \n3    a 6yearold child in uyench soum administrativ...   \n4    a colorado resident was infected with the pla...   \n..                                                ...   \n64   a vegetable farm in chongpyong county south h...   \n65   if someone has recently been bitten by a rat ...   \n66   farmers contracted to grow certified maize se...   \n67   i disagree with the assertion that the observ...   \n68   mystery surrounds the completely unprecedente...   \n\n                                               Source  \n0   https://ncdc.gov.ng/diseases/sitreps/?cat=5&na...  \n1   https://www.kob.com/albuquerque-news/new-mexic...  \n2   https://www.who.int/csr/don/23-july-2020-plagu...  \n3   http://unb.com.bd/category/world/bubonic-plagu...  \n4   https://nypost.com/2020/07/17/first-human-case...  \n..                                                ...  \n64  https://www.dailynk.com/english/cabbage-farm-s...  \n65  http://news.stnn.cc/fzsjxw/2020/0710/766111.shtml  \n66  https://www.farmers.co.ke/article/2001376657/f...  \n67                                                NaN  \n68                             https://bit.ly/31koika  \n\n[69 rows x 4 columns]",
      "text/html": "<div>\n<style scoped>\n    .dataframe tbody tr th:only-of-type {\n        vertical-align: middle;\n    }\n\n    .dataframe tbody tr th {\n        vertical-align: top;\n    }\n\n    .dataframe thead th {\n        text-align: right;\n    }\n</style>\n<table border=\"1\" class=\"dataframe\">\n  <thead>\n    <tr style=\"text-align: right;\">\n      <th></th>\n      <th>id</th>\n      <th>headline</th>\n      <th>body</th>\n      <th>Source</th>\n    </tr>\n  </thead>\n  <tbody>\n    <tr>\n      <th>0</th>\n      <td>7540787</td>\n      <td>lassa fever - west africa (21): nigeria</td>\n      <td>lassa fever lf situation report  epidemiologi...</td>\n      <td>https://ncdc.gov.ng/diseases/sitreps/?cat=5&amp;na...</td>\n    </tr>\n    <tr>\n      <th>1</th>\n      <td>7622263</td>\n      <td>plague - usa (02): (new mexico) bubonic</td>\n      <td>the new mexico department of health nmdoh is ...</td>\n      <td>https://www.kob.com/albuquerque-news/new-mexic...</td>\n    </tr>\n    <tr>\n      <th>2</th>\n      <td>7606707</td>\n      <td>plague - democratic republic of congo (07): (i...</td>\n      <td>plague  democratic republic of the congo  the...</td>\n      <td>https://www.who.int/csr/don/23-july-2020-plagu...</td>\n    </tr>\n    <tr>\n      <th>3</th>\n      <td>7591590</td>\n      <td>plague - mongolia (05): (hovd) bubonic, marmot...</td>\n      <td>a 6yearold child in uyench soum administrativ...</td>\n      <td>http://unb.com.bd/category/world/bubonic-plagu...</td>\n    </tr>\n    <tr>\n      <th>4</th>\n      <td>7586178</td>\n      <td>plague - usa: (colorado) septicemic</td>\n      <td>a colorado resident was infected with the pla...</td>\n      <td>https://nypost.com/2020/07/17/first-human-case...</td>\n    </tr>\n    <tr>\n      <th>...</th>\n      <td>...</td>\n      <td>...</td>\n      <td>...</td>\n      <td>...</td>\n    </tr>\n    <tr>\n      <th>64</th>\n      <td>7614763</td>\n      <td>undiagnosed disease, cabbage - north korea: (s...</td>\n      <td>a vegetable farm in chongpyong county south h...</td>\n      <td>https://www.dailynk.com/english/cabbage-farm-s...</td>\n    </tr>\n    <tr>\n      <th>65</th>\n      <td>7565580</td>\n      <td>undiagnosed hemorrhagic fever - china (02): (g...</td>\n      <td>if someone has recently been bitten by a rat ...</td>\n      <td>http://news.stnn.cc/fzsjxw/2020/0710/766111.shtml</td>\n    </tr>\n    <tr>\n      <th>66</th>\n      <td>7547511</td>\n      <td>undiagnosed rust, maize - kenya: (baringo)</td>\n      <td>farmers contracted to grow certified maize se...</td>\n      <td>https://www.farmers.co.ke/article/2001376657/f...</td>\n    </tr>\n    <tr>\n      <th>67</th>\n      <td>7537879</td>\n      <td>undiagnosed deaths, elephant - botswana (02): ...</td>\n      <td>i disagree with the assertion that the observ...</td>\n      <td>NaN</td>\n    </tr>\n    <tr>\n      <th>68</th>\n      <td>7533835</td>\n      <td>undiagnosed deaths, elephant - botswana: reque...</td>\n      <td>mystery surrounds the completely unprecedente...</td>\n      <td>https://bit.ly/31koika</td>\n    </tr>\n  </tbody>\n</table>\n<p>69 rows × 4 columns</p>\n</div>"
     },
     "metadata": {},
     "execution_count": 91
    }
   ],
   "source": [
    "df3.to_csv()"
   ]
  },
  {
   "cell_type": "code",
   "execution_count": 2,
   "metadata": {},
   "outputs": [],
   "source": [
    "# df['body'][0]"
   ]
  },
  {
   "cell_type": "code",
   "execution_count": 68,
   "metadata": {
    "tags": []
   },
   "outputs": [
    {
     "output_type": "stream",
     "name": "stderr",
     "text": "0%|          | 0/64 [00:00<?, ?it/s]extract phrase based on headline\n100%|██████████| 64/64 [00:32<00:00,  1.95it/s]\n  0%|          | 0/5 [00:00<?, ?it/s]check and extract address\nextract phrase based on headline\n100%|██████████| 5/5 [00:02<00:00,  2.02it/s]\ncheck and extract address\n"
    }
   ],
   "source": [
    "discover_from_title=efh.extract_from_title(discovered,df1)\n",
    "undiscover_from_title=efh.extract_from_title(undiscovered,df2)"
   ]
  },
  {
   "cell_type": "code",
   "execution_count": 69,
   "metadata": {},
   "outputs": [],
   "source": [
    "discover_from_title['when'] = df1['PubDate']\n",
    "undiscover_from_title['when'] = df2['PubDate']"
   ]
  },
  {
   "cell_type": "code",
   "execution_count": 70,
   "metadata": {},
   "outputs": [],
   "source": [
    "# discover_from_title"
   ]
  },
  {
   "cell_type": "code",
   "execution_count": 3,
   "metadata": {},
   "outputs": [],
   "source": [
    "# result.head()\n",
    "#1차적으로 태블로 위치, 장소이름, 어떤 질병이 발생했는지, 관련 기사 링크까지 보여주는 거는 완료"
   ]
  },
  {
   "cell_type": "code",
   "execution_count": 71,
   "metadata": {},
   "outputs": [],
   "source": [
    "discover_from_title = discover_from_title[['id','where','when','latitude','longitude','what','why']]\n",
    "undiscover_from_title = undiscover_from_title[['id','where','when','latitude','longitude','what','why']]"
   ]
  },
  {
   "cell_type": "code",
   "execution_count": 72,
   "metadata": {},
   "outputs": [],
   "source": [
    "discover_from_title['kind'] = 'discovered'\n",
    "undiscover_from_title['kind'] = 'undiscovered'"
   ]
  },
  {
   "cell_type": "code",
   "execution_count": 73,
   "metadata": {},
   "outputs": [],
   "source": [
    "discover_from_title['other']=discover_from_title['what']\n",
    "discover_from_title['what'] = df1['keyword']"
   ]
  },
  {
   "cell_type": "code",
   "execution_count": 66,
   "metadata": {},
   "outputs": [
    {
     "output_type": "execute_result",
     "data": {
      "text/plain": "         id                          where                 when latitude  \\\n0   7540787           west africa  nigeria  2020-06-28 00:00:00            \n1   7622263                           usa            2020-07-29  39.7837   \n2   7606707  democratic republic of congo   2020-06-12 00:00:00 -2.98143   \n3   7591590                      mongolia   2020-07-17 00:00:00   46.825   \n4   7586178                            usa           2020-07-18  39.7837   \n..      ...                            ...                  ...      ...   \n59  7611925                           None  2020-07-16 00:00:00  44.9331   \n60  7611925                           None           2020-07-25  44.9331   \n61  7611925                           None  2020-07-19 00:00:00  44.9331   \n62  7567540                           None           2020-07-12  44.9331   \n63  7567540                           None           2020-07-12  44.9331   \n\n   longitude         what                              why        kind   other  \n0             lassa fever                             None  discovered  ebola   \n1   -100.446       plague                             None  discovered  ebola   \n2    23.8223       plague                             None  discovered  ebola   \n3     103.85       plague                             None  discovered  ebola   \n4   -100.446       plague                             None  discovered  ebola   \n..       ...          ...                              ...         ...     ...  \n59   7.54012       rabies     raccoon, fox, human exposure  discovered     NaN  \n60   7.54012       rabies     raccoon, fox, human exposure  discovered     NaN  \n61   7.54012       rabies     raccoon, fox, human exposure  discovered     NaN  \n62   7.54012       rabies   canada) animal, human exposure  discovered     NaN  \n63   7.54012       rabies   canada) animal, human exposure  discovered     NaN  \n\n[64 rows x 9 columns]",
      "text/html": "<div>\n<style scoped>\n    .dataframe tbody tr th:only-of-type {\n        vertical-align: middle;\n    }\n\n    .dataframe tbody tr th {\n        vertical-align: top;\n    }\n\n    .dataframe thead th {\n        text-align: right;\n    }\n</style>\n<table border=\"1\" class=\"dataframe\">\n  <thead>\n    <tr style=\"text-align: right;\">\n      <th></th>\n      <th>id</th>\n      <th>where</th>\n      <th>when</th>\n      <th>latitude</th>\n      <th>longitude</th>\n      <th>what</th>\n      <th>why</th>\n      <th>kind</th>\n      <th>other</th>\n    </tr>\n  </thead>\n  <tbody>\n    <tr>\n      <th>0</th>\n      <td>7540787</td>\n      <td>west africa  nigeria</td>\n      <td>2020-06-28 00:00:00</td>\n      <td></td>\n      <td></td>\n      <td>lassa fever</td>\n      <td>None</td>\n      <td>discovered</td>\n      <td>ebola</td>\n    </tr>\n    <tr>\n      <th>1</th>\n      <td>7622263</td>\n      <td>usa</td>\n      <td>2020-07-29</td>\n      <td>39.7837</td>\n      <td>-100.446</td>\n      <td>plague</td>\n      <td>None</td>\n      <td>discovered</td>\n      <td>ebola</td>\n    </tr>\n    <tr>\n      <th>2</th>\n      <td>7606707</td>\n      <td>democratic republic of congo</td>\n      <td>2020-06-12 00:00:00</td>\n      <td>-2.98143</td>\n      <td>23.8223</td>\n      <td>plague</td>\n      <td>None</td>\n      <td>discovered</td>\n      <td>ebola</td>\n    </tr>\n    <tr>\n      <th>3</th>\n      <td>7591590</td>\n      <td>mongolia</td>\n      <td>2020-07-17 00:00:00</td>\n      <td>46.825</td>\n      <td>103.85</td>\n      <td>plague</td>\n      <td>None</td>\n      <td>discovered</td>\n      <td>ebola</td>\n    </tr>\n    <tr>\n      <th>4</th>\n      <td>7586178</td>\n      <td>usa</td>\n      <td>2020-07-18</td>\n      <td>39.7837</td>\n      <td>-100.446</td>\n      <td>plague</td>\n      <td>None</td>\n      <td>discovered</td>\n      <td>ebola</td>\n    </tr>\n    <tr>\n      <th>...</th>\n      <td>...</td>\n      <td>...</td>\n      <td>...</td>\n      <td>...</td>\n      <td>...</td>\n      <td>...</td>\n      <td>...</td>\n      <td>...</td>\n      <td>...</td>\n    </tr>\n    <tr>\n      <th>59</th>\n      <td>7611925</td>\n      <td>None</td>\n      <td>2020-07-16 00:00:00</td>\n      <td>44.9331</td>\n      <td>7.54012</td>\n      <td>rabies</td>\n      <td>raccoon, fox, human exposure</td>\n      <td>discovered</td>\n      <td>NaN</td>\n    </tr>\n    <tr>\n      <th>60</th>\n      <td>7611925</td>\n      <td>None</td>\n      <td>2020-07-25</td>\n      <td>44.9331</td>\n      <td>7.54012</td>\n      <td>rabies</td>\n      <td>raccoon, fox, human exposure</td>\n      <td>discovered</td>\n      <td>NaN</td>\n    </tr>\n    <tr>\n      <th>61</th>\n      <td>7611925</td>\n      <td>None</td>\n      <td>2020-07-19 00:00:00</td>\n      <td>44.9331</td>\n      <td>7.54012</td>\n      <td>rabies</td>\n      <td>raccoon, fox, human exposure</td>\n      <td>discovered</td>\n      <td>NaN</td>\n    </tr>\n    <tr>\n      <th>62</th>\n      <td>7567540</td>\n      <td>None</td>\n      <td>2020-07-12</td>\n      <td>44.9331</td>\n      <td>7.54012</td>\n      <td>rabies</td>\n      <td>canada) animal, human exposure</td>\n      <td>discovered</td>\n      <td>NaN</td>\n    </tr>\n    <tr>\n      <th>63</th>\n      <td>7567540</td>\n      <td>None</td>\n      <td>2020-07-12</td>\n      <td>44.9331</td>\n      <td>7.54012</td>\n      <td>rabies</td>\n      <td>canada) animal, human exposure</td>\n      <td>discovered</td>\n      <td>NaN</td>\n    </tr>\n  </tbody>\n</table>\n<p>64 rows × 9 columns</p>\n</div>"
     },
     "metadata": {},
     "execution_count": 66
    }
   ],
   "source": [
    "# discover_from_title"
   ]
  },
  {
   "cell_type": "code",
   "execution_count": 63,
   "metadata": {},
   "outputs": [
    {
     "output_type": "execute_result",
     "data": {
      "text/plain": "         id                          where                 when latitude  \\\n0   7540787           west africa  nigeria  2020-06-28 00:00:00            \n1   7622263                           usa            2020-07-29  39.7837   \n2   7606707  democratic republic of congo   2020-06-12 00:00:00 -2.98143   \n3   7591590                      mongolia   2020-07-17 00:00:00   46.825   \n4   7586178                            usa           2020-07-18  39.7837   \n..      ...                            ...                  ...      ...   \n59  7611925                           None  2020-07-16 00:00:00  44.9331   \n60  7611925                           None           2020-07-25  44.9331   \n61  7611925                           None  2020-07-19 00:00:00  44.9331   \n62  7567540                           None           2020-07-12  44.9331   \n63  7567540                           None           2020-07-12  44.9331   \n\n   longitude    what                              why        kind  \\\n0             ebola                              None  discovered   \n1   -100.446  ebola                              None  discovered   \n2    23.8223  ebola                              None  discovered   \n3     103.85  ebola                              None  discovered   \n4   -100.446  ebola                              None  discovered   \n..       ...     ...                              ...         ...   \n59   7.54012     NaN     raccoon, fox, human exposure  discovered   \n60   7.54012     NaN     raccoon, fox, human exposure  discovered   \n61   7.54012     NaN     raccoon, fox, human exposure  discovered   \n62   7.54012     NaN   canada) animal, human exposure  discovered   \n63   7.54012     NaN   canada) animal, human exposure  discovered   \n\n                              other  \n0                       lassa fever  \n1                            plague  \n2                            plague  \n3                            plague  \n4                            plague  \n..                              ...  \n59  rabies (22): americas (usa) cat  \n60  rabies (22): americas (usa) cat  \n61  rabies (22): americas (usa) cat  \n62       rabies (20): americas (usa  \n63       rabies (20): americas (usa  \n\n[64 rows x 9 columns]",
      "text/html": "<div>\n<style scoped>\n    .dataframe tbody tr th:only-of-type {\n        vertical-align: middle;\n    }\n\n    .dataframe tbody tr th {\n        vertical-align: top;\n    }\n\n    .dataframe thead th {\n        text-align: right;\n    }\n</style>\n<table border=\"1\" class=\"dataframe\">\n  <thead>\n    <tr style=\"text-align: right;\">\n      <th></th>\n      <th>id</th>\n      <th>where</th>\n      <th>when</th>\n      <th>latitude</th>\n      <th>longitude</th>\n      <th>what</th>\n      <th>why</th>\n      <th>kind</th>\n      <th>other</th>\n    </tr>\n  </thead>\n  <tbody>\n    <tr>\n      <th>0</th>\n      <td>7540787</td>\n      <td>west africa  nigeria</td>\n      <td>2020-06-28 00:00:00</td>\n      <td></td>\n      <td></td>\n      <td>ebola</td>\n      <td>None</td>\n      <td>discovered</td>\n      <td>lassa fever</td>\n    </tr>\n    <tr>\n      <th>1</th>\n      <td>7622263</td>\n      <td>usa</td>\n      <td>2020-07-29</td>\n      <td>39.7837</td>\n      <td>-100.446</td>\n      <td>ebola</td>\n      <td>None</td>\n      <td>discovered</td>\n      <td>plague</td>\n    </tr>\n    <tr>\n      <th>2</th>\n      <td>7606707</td>\n      <td>democratic republic of congo</td>\n      <td>2020-06-12 00:00:00</td>\n      <td>-2.98143</td>\n      <td>23.8223</td>\n      <td>ebola</td>\n      <td>None</td>\n      <td>discovered</td>\n      <td>plague</td>\n    </tr>\n    <tr>\n      <th>3</th>\n      <td>7591590</td>\n      <td>mongolia</td>\n      <td>2020-07-17 00:00:00</td>\n      <td>46.825</td>\n      <td>103.85</td>\n      <td>ebola</td>\n      <td>None</td>\n      <td>discovered</td>\n      <td>plague</td>\n    </tr>\n    <tr>\n      <th>4</th>\n      <td>7586178</td>\n      <td>usa</td>\n      <td>2020-07-18</td>\n      <td>39.7837</td>\n      <td>-100.446</td>\n      <td>ebola</td>\n      <td>None</td>\n      <td>discovered</td>\n      <td>plague</td>\n    </tr>\n    <tr>\n      <th>...</th>\n      <td>...</td>\n      <td>...</td>\n      <td>...</td>\n      <td>...</td>\n      <td>...</td>\n      <td>...</td>\n      <td>...</td>\n      <td>...</td>\n      <td>...</td>\n    </tr>\n    <tr>\n      <th>59</th>\n      <td>7611925</td>\n      <td>None</td>\n      <td>2020-07-16 00:00:00</td>\n      <td>44.9331</td>\n      <td>7.54012</td>\n      <td>NaN</td>\n      <td>raccoon, fox, human exposure</td>\n      <td>discovered</td>\n      <td>rabies (22): americas (usa) cat</td>\n    </tr>\n    <tr>\n      <th>60</th>\n      <td>7611925</td>\n      <td>None</td>\n      <td>2020-07-25</td>\n      <td>44.9331</td>\n      <td>7.54012</td>\n      <td>NaN</td>\n      <td>raccoon, fox, human exposure</td>\n      <td>discovered</td>\n      <td>rabies (22): americas (usa) cat</td>\n    </tr>\n    <tr>\n      <th>61</th>\n      <td>7611925</td>\n      <td>None</td>\n      <td>2020-07-19 00:00:00</td>\n      <td>44.9331</td>\n      <td>7.54012</td>\n      <td>NaN</td>\n      <td>raccoon, fox, human exposure</td>\n      <td>discovered</td>\n      <td>rabies (22): americas (usa) cat</td>\n    </tr>\n    <tr>\n      <th>62</th>\n      <td>7567540</td>\n      <td>None</td>\n      <td>2020-07-12</td>\n      <td>44.9331</td>\n      <td>7.54012</td>\n      <td>NaN</td>\n      <td>canada) animal, human exposure</td>\n      <td>discovered</td>\n      <td>rabies (20): americas (usa</td>\n    </tr>\n    <tr>\n      <th>63</th>\n      <td>7567540</td>\n      <td>None</td>\n      <td>2020-07-12</td>\n      <td>44.9331</td>\n      <td>7.54012</td>\n      <td>NaN</td>\n      <td>canada) animal, human exposure</td>\n      <td>discovered</td>\n      <td>rabies (20): americas (usa</td>\n    </tr>\n  </tbody>\n</table>\n<p>64 rows × 9 columns</p>\n</div>"
     },
     "metadata": {},
     "execution_count": 63
    }
   ],
   "source": [
    "# discover_from_title"
   ]
  },
  {
   "cell_type": "code",
   "execution_count": 172,
   "metadata": {},
   "outputs": [],
   "source": [
    "df = pd.concat([discover_from_title,undiscover_from_title],axis=0)"
   ]
  },
  {
   "cell_type": "code",
   "execution_count": 173,
   "metadata": {
    "tags": []
   },
   "outputs": [],
   "source": [
    "df.reset_index(drop=True,inplace=True)"
   ]
  },
  {
   "cell_type": "code",
   "execution_count": 174,
   "metadata": {},
   "outputs": [],
   "source": [
    "df['when']=df['when'].apply(lambda x: str(x)[:10] )\n",
    "# str(df['when'][0])[:10]"
   ]
  },
  {
   "cell_type": "code",
   "execution_count": 175,
   "metadata": {},
   "outputs": [
    {
     "output_type": "execute_result",
     "data": {
      "text/plain": "'2020-06-28'"
     },
     "metadata": {},
     "execution_count": 175
    }
   ],
   "source": [
    "df['when'][0]"
   ]
  },
  {
   "cell_type": "code",
   "execution_count": 176,
   "metadata": {},
   "outputs": [],
   "source": [
    "df=df[['id','kind','what','why','when','where','latitude','longitude','other']]"
   ]
  },
  {
   "cell_type": "code",
   "execution_count": 189,
   "metadata": {},
   "outputs": [],
   "source": [
    "temp=pd.merge(df,df3,on='id')"
   ]
  },
  {
   "cell_type": "code",
   "execution_count": 190,
   "metadata": {},
   "outputs": [],
   "source": [
    "temp=temp.drop_duplicates(subset=['when','id','what'],keep='last')"
   ]
  },
  {
   "cell_type": "code",
   "execution_count": 191,
   "metadata": {},
   "outputs": [],
   "source": [
    "temp6=temp[['id','headline',\n",
    " 'body',\n",
    " 'Source']]\n",
    "temp6.to_csv(\"./promed_news_all.csv\",index=False)"
   ]
  },
  {
   "cell_type": "code",
   "execution_count": 136,
   "metadata": {},
   "outputs": [],
   "source": [
    "temp1=temp"
   ]
  },
  {
   "cell_type": "code",
   "execution_count": 157,
   "metadata": {},
   "outputs": [],
   "source": [
    "temp1.loc[temp1['latitude']==44.933143,'where'] =temp1[temp1['latitude']==44.933143]['other'].str.split(\":\",n=1,expand=True)[1]\n",
    "# temp1['where']=temp['other'].str.split(\":\",n=1,expand=True)[1]"
   ]
  },
  {
   "cell_type": "code",
   "execution_count": 159,
   "metadata": {},
   "outputs": [],
   "source": [
    "temp1.loc[temp1['latitude']==44.933143,'where'] =temp1[temp1['latitude']==44.933143]['where'].str.split(\"(\",n=1,expand=True)[0]"
   ]
  },
  {
   "cell_type": "code",
   "execution_count": 160,
   "metadata": {},
   "outputs": [],
   "source": [
    "from geopy.geocoders import Nominatim\n",
    "host='nominatim.openstreetmap.org'\n",
    "geolocater=Nominatim(domain=host, timeout=8, user_agent=\"ms.kim1\")"
   ]
  },
  {
   "cell_type": "code",
   "execution_count": 161,
   "metadata": {},
   "outputs": [],
   "source": [
    "temp1['latitude'] = temp1['where'].apply(lambda x:'' if(geolocater.geocode(x) is None)or (geolocater.geocode(x) == 'None') else geolocater.geocode(x).latitude)\n",
    "temp1['longitude'] = temp1['where'].apply(lambda x:'' if (geolocater.geocode(x) is None)or (geolocater.geocode(x) == 'None') else geolocater.geocode(x).longitude)"
   ]
  },
  {
   "cell_type": "code",
   "execution_count": 169,
   "metadata": {},
   "outputs": [],
   "source": [
    "df= temp1\n",
    "df=df.drop(['body'],axis=1)"
   ]
  },
  {
   "cell_type": "code",
   "execution_count": 170,
   "metadata": {},
   "outputs": [
    {
     "output_type": "execute_result",
     "data": {
      "text/plain": "          id          kind                           what        why  \\\n0    7540787    discovered                    lassa fever       None   \n1    7622263    discovered                         plague       None   \n2    7606707    discovered                         plague       None   \n3    7591590    discovered                         plague       None   \n4    7586178    discovered                         plague       None   \n..       ...           ...                            ...        ...   \n120  7614763  undiscovered            undiagnosed disease    cabbage   \n121  7565580  undiscovered  undiagnosed hemorrhagic fever       None   \n122  7547511  undiscovered               undiagnosed rust      maize   \n123  7537879  undiscovered             undiagnosed deaths   elephant   \n124  7533835  undiscovered             undiagnosed deaths   elephant   \n\n           when                          where  latitude longitude  \\\n0    2020-06-28           west africa  nigeria                       \n1    2020-07-29                           usa    39.7837  -100.446   \n2    2020-06-12  democratic republic of congo   -2.98143   23.8223   \n3    2020-07-17                      mongolia     46.825    103.85   \n4    2020-07-18                            usa   39.7837  -100.446   \n..          ...                            ...       ...       ...   \n120  2020-07-27    north korea south hamgyong    40.1199   127.599   \n121  2020-07-12              china  guangdong    23.1358   113.198   \n122  2020-07-07                 kenya baringo   0.725146   36.0195   \n123  2020-07-04                      botswana   -23.1682   24.5929   \n124  2020-07-02                       botswana  -23.1682   24.5929   \n\n           other                                           headline  \\\n0    lassa fever            lassa fever - west africa (21): nigeria   \n1         plague            plague - usa (02): (new mexico) bubonic   \n2         plague  plague - democratic republic of congo (07): (i...   \n3         plague  plague - mongolia (05): (hovd) bubonic, marmot...   \n4         plague                plague - usa: (colorado) septicemic   \n..           ...                                                ...   \n120          NaN  undiagnosed disease, cabbage - north korea: (s...   \n121          NaN  undiagnosed hemorrhagic fever - china (02): (g...   \n122          NaN         undiagnosed rust, maize - kenya: (baringo)   \n123          NaN  undiagnosed deaths, elephant - botswana (02): ...   \n124          NaN  undiagnosed deaths, elephant - botswana: reque...   \n\n                                                Source  \n0    https://ncdc.gov.ng/diseases/sitreps/?cat=5&na...  \n1    https://www.kob.com/albuquerque-news/new-mexic...  \n2    https://www.who.int/csr/don/23-july-2020-plagu...  \n3    http://unb.com.bd/category/world/bubonic-plagu...  \n4    https://nypost.com/2020/07/17/first-human-case...  \n..                                                 ...  \n120  https://www.dailynk.com/english/cabbage-farm-s...  \n121  http://news.stnn.cc/fzsjxw/2020/0710/766111.shtml  \n122  https://www.farmers.co.ke/article/2001376657/f...  \n123                                                NaN  \n124                             https://bit.ly/31koika  \n\n[61 rows x 11 columns]",
      "text/html": "<div>\n<style scoped>\n    .dataframe tbody tr th:only-of-type {\n        vertical-align: middle;\n    }\n\n    .dataframe tbody tr th {\n        vertical-align: top;\n    }\n\n    .dataframe thead th {\n        text-align: right;\n    }\n</style>\n<table border=\"1\" class=\"dataframe\">\n  <thead>\n    <tr style=\"text-align: right;\">\n      <th></th>\n      <th>id</th>\n      <th>kind</th>\n      <th>what</th>\n      <th>why</th>\n      <th>when</th>\n      <th>where</th>\n      <th>latitude</th>\n      <th>longitude</th>\n      <th>other</th>\n      <th>headline</th>\n      <th>Source</th>\n    </tr>\n  </thead>\n  <tbody>\n    <tr>\n      <th>0</th>\n      <td>7540787</td>\n      <td>discovered</td>\n      <td>lassa fever</td>\n      <td>None</td>\n      <td>2020-06-28</td>\n      <td>west africa  nigeria</td>\n      <td></td>\n      <td></td>\n      <td>lassa fever</td>\n      <td>lassa fever - west africa (21): nigeria</td>\n      <td>https://ncdc.gov.ng/diseases/sitreps/?cat=5&amp;na...</td>\n    </tr>\n    <tr>\n      <th>1</th>\n      <td>7622263</td>\n      <td>discovered</td>\n      <td>plague</td>\n      <td>None</td>\n      <td>2020-07-29</td>\n      <td>usa</td>\n      <td>39.7837</td>\n      <td>-100.446</td>\n      <td>plague</td>\n      <td>plague - usa (02): (new mexico) bubonic</td>\n      <td>https://www.kob.com/albuquerque-news/new-mexic...</td>\n    </tr>\n    <tr>\n      <th>2</th>\n      <td>7606707</td>\n      <td>discovered</td>\n      <td>plague</td>\n      <td>None</td>\n      <td>2020-06-12</td>\n      <td>democratic republic of congo</td>\n      <td>-2.98143</td>\n      <td>23.8223</td>\n      <td>plague</td>\n      <td>plague - democratic republic of congo (07): (i...</td>\n      <td>https://www.who.int/csr/don/23-july-2020-plagu...</td>\n    </tr>\n    <tr>\n      <th>3</th>\n      <td>7591590</td>\n      <td>discovered</td>\n      <td>plague</td>\n      <td>None</td>\n      <td>2020-07-17</td>\n      <td>mongolia</td>\n      <td>46.825</td>\n      <td>103.85</td>\n      <td>plague</td>\n      <td>plague - mongolia (05): (hovd) bubonic, marmot...</td>\n      <td>http://unb.com.bd/category/world/bubonic-plagu...</td>\n    </tr>\n    <tr>\n      <th>4</th>\n      <td>7586178</td>\n      <td>discovered</td>\n      <td>plague</td>\n      <td>None</td>\n      <td>2020-07-18</td>\n      <td>usa</td>\n      <td>39.7837</td>\n      <td>-100.446</td>\n      <td>plague</td>\n      <td>plague - usa: (colorado) septicemic</td>\n      <td>https://nypost.com/2020/07/17/first-human-case...</td>\n    </tr>\n    <tr>\n      <th>...</th>\n      <td>...</td>\n      <td>...</td>\n      <td>...</td>\n      <td>...</td>\n      <td>...</td>\n      <td>...</td>\n      <td>...</td>\n      <td>...</td>\n      <td>...</td>\n      <td>...</td>\n      <td>...</td>\n    </tr>\n    <tr>\n      <th>120</th>\n      <td>7614763</td>\n      <td>undiscovered</td>\n      <td>undiagnosed disease</td>\n      <td>cabbage</td>\n      <td>2020-07-27</td>\n      <td>north korea south hamgyong</td>\n      <td>40.1199</td>\n      <td>127.599</td>\n      <td>NaN</td>\n      <td>undiagnosed disease, cabbage - north korea: (s...</td>\n      <td>https://www.dailynk.com/english/cabbage-farm-s...</td>\n    </tr>\n    <tr>\n      <th>121</th>\n      <td>7565580</td>\n      <td>undiscovered</td>\n      <td>undiagnosed hemorrhagic fever</td>\n      <td>None</td>\n      <td>2020-07-12</td>\n      <td>china  guangdong</td>\n      <td>23.1358</td>\n      <td>113.198</td>\n      <td>NaN</td>\n      <td>undiagnosed hemorrhagic fever - china (02): (g...</td>\n      <td>http://news.stnn.cc/fzsjxw/2020/0710/766111.shtml</td>\n    </tr>\n    <tr>\n      <th>122</th>\n      <td>7547511</td>\n      <td>undiscovered</td>\n      <td>undiagnosed rust</td>\n      <td>maize</td>\n      <td>2020-07-07</td>\n      <td>kenya baringo</td>\n      <td>0.725146</td>\n      <td>36.0195</td>\n      <td>NaN</td>\n      <td>undiagnosed rust, maize - kenya: (baringo)</td>\n      <td>https://www.farmers.co.ke/article/2001376657/f...</td>\n    </tr>\n    <tr>\n      <th>123</th>\n      <td>7537879</td>\n      <td>undiscovered</td>\n      <td>undiagnosed deaths</td>\n      <td>elephant</td>\n      <td>2020-07-04</td>\n      <td>botswana</td>\n      <td>-23.1682</td>\n      <td>24.5929</td>\n      <td>NaN</td>\n      <td>undiagnosed deaths, elephant - botswana (02): ...</td>\n      <td>NaN</td>\n    </tr>\n    <tr>\n      <th>124</th>\n      <td>7533835</td>\n      <td>undiscovered</td>\n      <td>undiagnosed deaths</td>\n      <td>elephant</td>\n      <td>2020-07-02</td>\n      <td>botswana</td>\n      <td>-23.1682</td>\n      <td>24.5929</td>\n      <td>NaN</td>\n      <td>undiagnosed deaths, elephant - botswana: reque...</td>\n      <td>https://bit.ly/31koika</td>\n    </tr>\n  </tbody>\n</table>\n<p>61 rows × 11 columns</p>\n</div>"
     },
     "metadata": {},
     "execution_count": 170
    }
   ],
   "source": [
    "df"
   ]
  },
  {
   "cell_type": "markdown",
   "metadata": {},
   "source": [
    "- 전국국가통계 부분도 다 불러와서 \n",
    "- 다시 집어넣기"
   ]
  },
  {
   "cell_type": "code",
   "execution_count": 92,
   "metadata": {
    "tags": []
   },
   "outputs": [],
   "source": [
    "import pymysql\n",
    "from sqlalchemy import create_engine\n",
    "import mysql.connector\n",
    "\n",
    "#DB config\n",
    "HOST = '10.60.1.157'\n",
    "PORT = '3306'\n",
    "USER = 'da_team'\n",
    "PASSWD = 'alticast1!'\n",
    "DB = 'bangpl'\n",
    "table = 'ProMed_5W1H'\n",
    "\n",
    "#DB connection\n",
    "engine=create_engine(\"mysql+mysqlconnector://\"+USER+\":\"+PASSWD+\"@\"+HOST+\"/\"+DB, echo=False)\n",
    "# conn = pymysql.connect(host=HOST, user=USER, password = PASSWD, db=DB ,charset=\"utf8\")\n",
    "# curs = conn.cursor()\n",
    "# sql = \"select * FROM ProMed_5W1H WHERE WHERE_ IS NOT null\"\n",
    "# curs.execute(sql) \n",
    "# result = curs.fetchall()\n",
    "# conn.close()\n",
    "# # print(result)\n",
    "df.to_sql(name=table, con=engine,if_exists='append',index=False)"
   ]
  },
  {
   "cell_type": "code",
   "execution_count": 84,
   "metadata": {},
   "outputs": [],
   "source": [
    "df = pd.DataFrame(result)"
   ]
  },
  {
   "cell_type": "code",
   "execution_count": 86,
   "metadata": {},
   "outputs": [],
   "source": [
    "df=df.rename(columns={0:'id',1:'kind',2:'what',3:'why',4:'when_',5:'where_',6:'latitude',7:'longitude',8:'headline',9:'source'})"
   ]
  },
  {
   "cell_type": "code",
   "execution_count": 70,
   "metadata": {},
   "outputs": [],
   "source": [
    "import pandas as pd"
   ]
  },
  {
   "cell_type": "code",
   "execution_count": 71,
   "metadata": {},
   "outputs": [],
   "source": [
    "# temp = pd.read_csv(\"./promed_tableau.csv\")"
   ]
  },
  {
   "cell_type": "code",
   "execution_count": 72,
   "metadata": {},
   "outputs": [],
   "source": [
    "# df=df.rename(columns={'where':'id','id':'where__'})"
   ]
  },
  {
   "cell_type": "code",
   "execution_count": 88,
   "metadata": {},
   "outputs": [],
   "source": [
    "from geopy.geocoders import Nominatim\n",
    "host='nominatim.openstreetmap.org'\n",
    "geolocator=Nominatim(domain=host, timeout=8, user_agent=\"ms.kim1\")"
   ]
  },
  {
   "cell_type": "code",
   "execution_count": 89,
   "metadata": {},
   "outputs": [],
   "source": [
    "df['location']=df['where_'].apply(lambda x : '' if(geolocater.geocode(x) is None)or (geolocater.geocode(x) == 'None') else geolocater.geocode(x)[0])"
   ]
  },
  {
   "cell_type": "code",
   "execution_count": 93,
   "metadata": {},
   "outputs": [],
   "source": [
    "# df"
   ]
  },
  {
   "cell_type": "code",
   "execution_count": 94,
   "metadata": {},
   "outputs": [],
   "source": [
    "df10 = pd.read_csv(\"./전국국가통계_수정Ver_202006.csv\")"
   ]
  },
  {
   "cell_type": "code",
   "execution_count": 96,
   "metadata": {},
   "outputs": [
    {
     "output_type": "error",
     "ename": "KeyboardInterrupt",
     "evalue": "",
     "traceback": [
      "\u001b[1;31m---------------------------------------------------------------------------\u001b[0m",
      "\u001b[1;31mKeyboardInterrupt\u001b[0m                         Traceback (most recent call last)",
      "\u001b[1;32m<ipython-input-96-78cc35c17cef>\u001b[0m in \u001b[0;36m<module>\u001b[1;34m\u001b[0m\n\u001b[1;32m----> 1\u001b[1;33m \u001b[0mdf10\u001b[0m\u001b[1;33m[\u001b[0m\u001b[1;34m'location'\u001b[0m\u001b[1;33m]\u001b[0m\u001b[1;33m=\u001b[0m\u001b[0mdf10\u001b[0m\u001b[1;33m[\u001b[0m\u001b[1;34m'country'\u001b[0m\u001b[1;33m]\u001b[0m\u001b[1;33m.\u001b[0m\u001b[0mapply\u001b[0m\u001b[1;33m(\u001b[0m\u001b[1;32mlambda\u001b[0m \u001b[0mx\u001b[0m \u001b[1;33m:\u001b[0m \u001b[1;34m''\u001b[0m \u001b[1;32mif\u001b[0m\u001b[1;33m(\u001b[0m\u001b[0mgeolocater\u001b[0m\u001b[1;33m.\u001b[0m\u001b[0mgeocode\u001b[0m\u001b[1;33m(\u001b[0m\u001b[0mx\u001b[0m\u001b[1;33m)\u001b[0m \u001b[1;32mis\u001b[0m \u001b[1;32mNone\u001b[0m\u001b[1;33m)\u001b[0m\u001b[1;32mor\u001b[0m \u001b[1;33m(\u001b[0m\u001b[0mgeolocater\u001b[0m\u001b[1;33m.\u001b[0m\u001b[0mgeocode\u001b[0m\u001b[1;33m(\u001b[0m\u001b[0mx\u001b[0m\u001b[1;33m)\u001b[0m \u001b[1;33m==\u001b[0m \u001b[1;34m'None'\u001b[0m\u001b[1;33m)\u001b[0m \u001b[1;32melse\u001b[0m \u001b[0mgeolocater\u001b[0m\u001b[1;33m.\u001b[0m\u001b[0mgeocode\u001b[0m\u001b[1;33m(\u001b[0m\u001b[0mx\u001b[0m\u001b[1;33m)\u001b[0m\u001b[1;33m[\u001b[0m\u001b[1;36m0\u001b[0m\u001b[1;33m]\u001b[0m\u001b[1;33m)\u001b[0m\u001b[1;33m\u001b[0m\u001b[1;33m\u001b[0m\u001b[0m\n\u001b[0m",
      "\u001b[1;32m~\\AppData\\Local\\Programs\\Python\\Python36\\lib\\site-packages\\pandas\\core\\series.py\u001b[0m in \u001b[0;36mapply\u001b[1;34m(self, func, convert_dtype, args, **kwds)\u001b[0m\n\u001b[0;32m   3846\u001b[0m             \u001b[1;32melse\u001b[0m\u001b[1;33m:\u001b[0m\u001b[1;33m\u001b[0m\u001b[1;33m\u001b[0m\u001b[0m\n\u001b[0;32m   3847\u001b[0m                 \u001b[0mvalues\u001b[0m \u001b[1;33m=\u001b[0m \u001b[0mself\u001b[0m\u001b[1;33m.\u001b[0m\u001b[0mastype\u001b[0m\u001b[1;33m(\u001b[0m\u001b[0mobject\u001b[0m\u001b[1;33m)\u001b[0m\u001b[1;33m.\u001b[0m\u001b[0mvalues\u001b[0m\u001b[1;33m\u001b[0m\u001b[1;33m\u001b[0m\u001b[0m\n\u001b[1;32m-> 3848\u001b[1;33m                 \u001b[0mmapped\u001b[0m \u001b[1;33m=\u001b[0m \u001b[0mlib\u001b[0m\u001b[1;33m.\u001b[0m\u001b[0mmap_infer\u001b[0m\u001b[1;33m(\u001b[0m\u001b[0mvalues\u001b[0m\u001b[1;33m,\u001b[0m \u001b[0mf\u001b[0m\u001b[1;33m,\u001b[0m \u001b[0mconvert\u001b[0m\u001b[1;33m=\u001b[0m\u001b[0mconvert_dtype\u001b[0m\u001b[1;33m)\u001b[0m\u001b[1;33m\u001b[0m\u001b[1;33m\u001b[0m\u001b[0m\n\u001b[0m\u001b[0;32m   3849\u001b[0m \u001b[1;33m\u001b[0m\u001b[0m\n\u001b[0;32m   3850\u001b[0m         \u001b[1;32mif\u001b[0m \u001b[0mlen\u001b[0m\u001b[1;33m(\u001b[0m\u001b[0mmapped\u001b[0m\u001b[1;33m)\u001b[0m \u001b[1;32mand\u001b[0m \u001b[0misinstance\u001b[0m\u001b[1;33m(\u001b[0m\u001b[0mmapped\u001b[0m\u001b[1;33m[\u001b[0m\u001b[1;36m0\u001b[0m\u001b[1;33m]\u001b[0m\u001b[1;33m,\u001b[0m \u001b[0mSeries\u001b[0m\u001b[1;33m)\u001b[0m\u001b[1;33m:\u001b[0m\u001b[1;33m\u001b[0m\u001b[1;33m\u001b[0m\u001b[0m\n",
      "\u001b[1;32mpandas\\_libs\\lib.pyx\u001b[0m in \u001b[0;36mpandas._libs.lib.map_infer\u001b[1;34m()\u001b[0m\n",
      "\u001b[1;32m<ipython-input-96-78cc35c17cef>\u001b[0m in \u001b[0;36m<lambda>\u001b[1;34m(x)\u001b[0m\n\u001b[1;32m----> 1\u001b[1;33m \u001b[0mdf10\u001b[0m\u001b[1;33m[\u001b[0m\u001b[1;34m'location'\u001b[0m\u001b[1;33m]\u001b[0m\u001b[1;33m=\u001b[0m\u001b[0mdf10\u001b[0m\u001b[1;33m[\u001b[0m\u001b[1;34m'country'\u001b[0m\u001b[1;33m]\u001b[0m\u001b[1;33m.\u001b[0m\u001b[0mapply\u001b[0m\u001b[1;33m(\u001b[0m\u001b[1;32mlambda\u001b[0m \u001b[0mx\u001b[0m \u001b[1;33m:\u001b[0m \u001b[1;34m''\u001b[0m \u001b[1;32mif\u001b[0m\u001b[1;33m(\u001b[0m\u001b[0mgeolocater\u001b[0m\u001b[1;33m.\u001b[0m\u001b[0mgeocode\u001b[0m\u001b[1;33m(\u001b[0m\u001b[0mx\u001b[0m\u001b[1;33m)\u001b[0m \u001b[1;32mis\u001b[0m \u001b[1;32mNone\u001b[0m\u001b[1;33m)\u001b[0m\u001b[1;32mor\u001b[0m \u001b[1;33m(\u001b[0m\u001b[0mgeolocater\u001b[0m\u001b[1;33m.\u001b[0m\u001b[0mgeocode\u001b[0m\u001b[1;33m(\u001b[0m\u001b[0mx\u001b[0m\u001b[1;33m)\u001b[0m \u001b[1;33m==\u001b[0m \u001b[1;34m'None'\u001b[0m\u001b[1;33m)\u001b[0m \u001b[1;32melse\u001b[0m \u001b[0mgeolocater\u001b[0m\u001b[1;33m.\u001b[0m\u001b[0mgeocode\u001b[0m\u001b[1;33m(\u001b[0m\u001b[0mx\u001b[0m\u001b[1;33m)\u001b[0m\u001b[1;33m[\u001b[0m\u001b[1;36m0\u001b[0m\u001b[1;33m]\u001b[0m\u001b[1;33m)\u001b[0m\u001b[1;33m\u001b[0m\u001b[1;33m\u001b[0m\u001b[0m\n\u001b[0m",
      "\u001b[1;32m~\\AppData\\Local\\Programs\\Python\\Python36\\lib\\site-packages\\geopy\\geocoders\\nominatim.py\u001b[0m in \u001b[0;36mgeocode\u001b[1;34m(self, query, exactly_one, timeout, limit, addressdetails, language, geometry, extratags, country_codes, viewbox, bounded, featuretype, namedetails)\u001b[0m\n\u001b[0;32m    292\u001b[0m         \u001b[0mlogger\u001b[0m\u001b[1;33m.\u001b[0m\u001b[0mdebug\u001b[0m\u001b[1;33m(\u001b[0m\u001b[1;34m\"%s.geocode: %s\"\u001b[0m\u001b[1;33m,\u001b[0m \u001b[0mself\u001b[0m\u001b[1;33m.\u001b[0m\u001b[0m__class__\u001b[0m\u001b[1;33m.\u001b[0m\u001b[0m__name__\u001b[0m\u001b[1;33m,\u001b[0m \u001b[0murl\u001b[0m\u001b[1;33m)\u001b[0m\u001b[1;33m\u001b[0m\u001b[1;33m\u001b[0m\u001b[0m\n\u001b[0;32m    293\u001b[0m         \u001b[0mcallback\u001b[0m \u001b[1;33m=\u001b[0m \u001b[0mpartial\u001b[0m\u001b[1;33m(\u001b[0m\u001b[0mself\u001b[0m\u001b[1;33m.\u001b[0m\u001b[0m_parse_json\u001b[0m\u001b[1;33m,\u001b[0m \u001b[0mexactly_one\u001b[0m\u001b[1;33m=\u001b[0m\u001b[0mexactly_one\u001b[0m\u001b[1;33m)\u001b[0m\u001b[1;33m\u001b[0m\u001b[1;33m\u001b[0m\u001b[0m\n\u001b[1;32m--> 294\u001b[1;33m         \u001b[1;32mreturn\u001b[0m \u001b[0mself\u001b[0m\u001b[1;33m.\u001b[0m\u001b[0m_call_geocoder\u001b[0m\u001b[1;33m(\u001b[0m\u001b[0murl\u001b[0m\u001b[1;33m,\u001b[0m \u001b[0mcallback\u001b[0m\u001b[1;33m,\u001b[0m \u001b[0mtimeout\u001b[0m\u001b[1;33m=\u001b[0m\u001b[0mtimeout\u001b[0m\u001b[1;33m)\u001b[0m\u001b[1;33m\u001b[0m\u001b[1;33m\u001b[0m\u001b[0m\n\u001b[0m\u001b[0;32m    295\u001b[0m \u001b[1;33m\u001b[0m\u001b[0m\n\u001b[0;32m    296\u001b[0m     def reverse(\n",
      "\u001b[1;32m~\\AppData\\Local\\Programs\\Python\\Python36\\lib\\site-packages\\geopy\\geocoders\\base.py\u001b[0m in \u001b[0;36m_call_geocoder\u001b[1;34m(self, url, callback, timeout, is_json, headers)\u001b[0m\n\u001b[0;32m    358\u001b[0m         \u001b[1;32mtry\u001b[0m\u001b[1;33m:\u001b[0m\u001b[1;33m\u001b[0m\u001b[1;33m\u001b[0m\u001b[0m\n\u001b[0;32m    359\u001b[0m             \u001b[1;32mif\u001b[0m \u001b[0mis_json\u001b[0m\u001b[1;33m:\u001b[0m\u001b[1;33m\u001b[0m\u001b[1;33m\u001b[0m\u001b[0m\n\u001b[1;32m--> 360\u001b[1;33m                 \u001b[0mresult\u001b[0m \u001b[1;33m=\u001b[0m \u001b[0mself\u001b[0m\u001b[1;33m.\u001b[0m\u001b[0madapter\u001b[0m\u001b[1;33m.\u001b[0m\u001b[0mget_json\u001b[0m\u001b[1;33m(\u001b[0m\u001b[0murl\u001b[0m\u001b[1;33m,\u001b[0m \u001b[0mtimeout\u001b[0m\u001b[1;33m=\u001b[0m\u001b[0mtimeout\u001b[0m\u001b[1;33m,\u001b[0m \u001b[0mheaders\u001b[0m\u001b[1;33m=\u001b[0m\u001b[0mreq_headers\u001b[0m\u001b[1;33m)\u001b[0m\u001b[1;33m\u001b[0m\u001b[1;33m\u001b[0m\u001b[0m\n\u001b[0m\u001b[0;32m    361\u001b[0m             \u001b[1;32melse\u001b[0m\u001b[1;33m:\u001b[0m\u001b[1;33m\u001b[0m\u001b[1;33m\u001b[0m\u001b[0m\n\u001b[0;32m    362\u001b[0m                 \u001b[0mresult\u001b[0m \u001b[1;33m=\u001b[0m \u001b[0mself\u001b[0m\u001b[1;33m.\u001b[0m\u001b[0madapter\u001b[0m\u001b[1;33m.\u001b[0m\u001b[0mget_text\u001b[0m\u001b[1;33m(\u001b[0m\u001b[0murl\u001b[0m\u001b[1;33m,\u001b[0m \u001b[0mtimeout\u001b[0m\u001b[1;33m=\u001b[0m\u001b[0mtimeout\u001b[0m\u001b[1;33m,\u001b[0m \u001b[0mheaders\u001b[0m\u001b[1;33m=\u001b[0m\u001b[0mreq_headers\u001b[0m\u001b[1;33m)\u001b[0m\u001b[1;33m\u001b[0m\u001b[1;33m\u001b[0m\u001b[0m\n",
      "\u001b[1;32m~\\AppData\\Local\\Programs\\Python\\Python36\\lib\\site-packages\\geopy\\adapters.py\u001b[0m in \u001b[0;36mget_json\u001b[1;34m(self, url, timeout, headers)\u001b[0m\n\u001b[0;32m    371\u001b[0m \u001b[1;33m\u001b[0m\u001b[0m\n\u001b[0;32m    372\u001b[0m     \u001b[1;32mdef\u001b[0m \u001b[0mget_json\u001b[0m\u001b[1;33m(\u001b[0m\u001b[0mself\u001b[0m\u001b[1;33m,\u001b[0m \u001b[0murl\u001b[0m\u001b[1;33m,\u001b[0m \u001b[1;33m*\u001b[0m\u001b[1;33m,\u001b[0m \u001b[0mtimeout\u001b[0m\u001b[1;33m,\u001b[0m \u001b[0mheaders\u001b[0m\u001b[1;33m)\u001b[0m\u001b[1;33m:\u001b[0m\u001b[1;33m\u001b[0m\u001b[1;33m\u001b[0m\u001b[0m\n\u001b[1;32m--> 373\u001b[1;33m         \u001b[0mresp\u001b[0m \u001b[1;33m=\u001b[0m \u001b[0mself\u001b[0m\u001b[1;33m.\u001b[0m\u001b[0m_request\u001b[0m\u001b[1;33m(\u001b[0m\u001b[0murl\u001b[0m\u001b[1;33m,\u001b[0m \u001b[0mtimeout\u001b[0m\u001b[1;33m=\u001b[0m\u001b[0mtimeout\u001b[0m\u001b[1;33m,\u001b[0m \u001b[0mheaders\u001b[0m\u001b[1;33m=\u001b[0m\u001b[0mheaders\u001b[0m\u001b[1;33m)\u001b[0m\u001b[1;33m\u001b[0m\u001b[1;33m\u001b[0m\u001b[0m\n\u001b[0m\u001b[0;32m    374\u001b[0m         \u001b[1;32mtry\u001b[0m\u001b[1;33m:\u001b[0m\u001b[1;33m\u001b[0m\u001b[1;33m\u001b[0m\u001b[0m\n\u001b[0;32m    375\u001b[0m             \u001b[1;32mreturn\u001b[0m \u001b[0mresp\u001b[0m\u001b[1;33m.\u001b[0m\u001b[0mjson\u001b[0m\u001b[1;33m(\u001b[0m\u001b[1;33m)\u001b[0m\u001b[1;33m\u001b[0m\u001b[1;33m\u001b[0m\u001b[0m\n",
      "\u001b[1;32m~\\AppData\\Local\\Programs\\Python\\Python36\\lib\\site-packages\\geopy\\adapters.py\u001b[0m in \u001b[0;36m_request\u001b[1;34m(self, url, timeout, headers)\u001b[0m\n\u001b[0;32m    381\u001b[0m     \u001b[1;32mdef\u001b[0m \u001b[0m_request\u001b[0m\u001b[1;33m(\u001b[0m\u001b[0mself\u001b[0m\u001b[1;33m,\u001b[0m \u001b[0murl\u001b[0m\u001b[1;33m,\u001b[0m \u001b[1;33m*\u001b[0m\u001b[1;33m,\u001b[0m \u001b[0mtimeout\u001b[0m\u001b[1;33m,\u001b[0m \u001b[0mheaders\u001b[0m\u001b[1;33m)\u001b[0m\u001b[1;33m:\u001b[0m\u001b[1;33m\u001b[0m\u001b[1;33m\u001b[0m\u001b[0m\n\u001b[0;32m    382\u001b[0m         \u001b[1;32mtry\u001b[0m\u001b[1;33m:\u001b[0m\u001b[1;33m\u001b[0m\u001b[1;33m\u001b[0m\u001b[0m\n\u001b[1;32m--> 383\u001b[1;33m             \u001b[0mresp\u001b[0m \u001b[1;33m=\u001b[0m \u001b[0mself\u001b[0m\u001b[1;33m.\u001b[0m\u001b[0msession\u001b[0m\u001b[1;33m.\u001b[0m\u001b[0mget\u001b[0m\u001b[1;33m(\u001b[0m\u001b[0murl\u001b[0m\u001b[1;33m,\u001b[0m \u001b[0mtimeout\u001b[0m\u001b[1;33m=\u001b[0m\u001b[0mtimeout\u001b[0m\u001b[1;33m,\u001b[0m \u001b[0mheaders\u001b[0m\u001b[1;33m=\u001b[0m\u001b[0mheaders\u001b[0m\u001b[1;33m)\u001b[0m\u001b[1;33m\u001b[0m\u001b[1;33m\u001b[0m\u001b[0m\n\u001b[0m\u001b[0;32m    384\u001b[0m         \u001b[1;32mexcept\u001b[0m \u001b[0mException\u001b[0m \u001b[1;32mas\u001b[0m \u001b[0merror\u001b[0m\u001b[1;33m:\u001b[0m\u001b[1;33m\u001b[0m\u001b[1;33m\u001b[0m\u001b[0m\n\u001b[0;32m    385\u001b[0m             \u001b[0mmessage\u001b[0m \u001b[1;33m=\u001b[0m \u001b[0mstr\u001b[0m\u001b[1;33m(\u001b[0m\u001b[0merror\u001b[0m\u001b[1;33m)\u001b[0m\u001b[1;33m\u001b[0m\u001b[1;33m\u001b[0m\u001b[0m\n",
      "\u001b[1;32m~\\AppData\\Local\\Programs\\Python\\Python36\\lib\\site-packages\\requests\\sessions.py\u001b[0m in \u001b[0;36mget\u001b[1;34m(self, url, **kwargs)\u001b[0m\n\u001b[0;32m    541\u001b[0m \u001b[1;33m\u001b[0m\u001b[0m\n\u001b[0;32m    542\u001b[0m         \u001b[0mkwargs\u001b[0m\u001b[1;33m.\u001b[0m\u001b[0msetdefault\u001b[0m\u001b[1;33m(\u001b[0m\u001b[1;34m'allow_redirects'\u001b[0m\u001b[1;33m,\u001b[0m \u001b[1;32mTrue\u001b[0m\u001b[1;33m)\u001b[0m\u001b[1;33m\u001b[0m\u001b[1;33m\u001b[0m\u001b[0m\n\u001b[1;32m--> 543\u001b[1;33m         \u001b[1;32mreturn\u001b[0m \u001b[0mself\u001b[0m\u001b[1;33m.\u001b[0m\u001b[0mrequest\u001b[0m\u001b[1;33m(\u001b[0m\u001b[1;34m'GET'\u001b[0m\u001b[1;33m,\u001b[0m \u001b[0murl\u001b[0m\u001b[1;33m,\u001b[0m \u001b[1;33m**\u001b[0m\u001b[0mkwargs\u001b[0m\u001b[1;33m)\u001b[0m\u001b[1;33m\u001b[0m\u001b[1;33m\u001b[0m\u001b[0m\n\u001b[0m\u001b[0;32m    544\u001b[0m \u001b[1;33m\u001b[0m\u001b[0m\n\u001b[0;32m    545\u001b[0m     \u001b[1;32mdef\u001b[0m \u001b[0moptions\u001b[0m\u001b[1;33m(\u001b[0m\u001b[0mself\u001b[0m\u001b[1;33m,\u001b[0m \u001b[0murl\u001b[0m\u001b[1;33m,\u001b[0m \u001b[1;33m**\u001b[0m\u001b[0mkwargs\u001b[0m\u001b[1;33m)\u001b[0m\u001b[1;33m:\u001b[0m\u001b[1;33m\u001b[0m\u001b[1;33m\u001b[0m\u001b[0m\n",
      "\u001b[1;32m~\\AppData\\Local\\Programs\\Python\\Python36\\lib\\site-packages\\requests\\sessions.py\u001b[0m in \u001b[0;36mrequest\u001b[1;34m(self, method, url, params, data, headers, cookies, files, auth, timeout, allow_redirects, proxies, hooks, stream, verify, cert, json)\u001b[0m\n\u001b[0;32m    528\u001b[0m         }\n\u001b[0;32m    529\u001b[0m         \u001b[0msend_kwargs\u001b[0m\u001b[1;33m.\u001b[0m\u001b[0mupdate\u001b[0m\u001b[1;33m(\u001b[0m\u001b[0msettings\u001b[0m\u001b[1;33m)\u001b[0m\u001b[1;33m\u001b[0m\u001b[1;33m\u001b[0m\u001b[0m\n\u001b[1;32m--> 530\u001b[1;33m         \u001b[0mresp\u001b[0m \u001b[1;33m=\u001b[0m \u001b[0mself\u001b[0m\u001b[1;33m.\u001b[0m\u001b[0msend\u001b[0m\u001b[1;33m(\u001b[0m\u001b[0mprep\u001b[0m\u001b[1;33m,\u001b[0m \u001b[1;33m**\u001b[0m\u001b[0msend_kwargs\u001b[0m\u001b[1;33m)\u001b[0m\u001b[1;33m\u001b[0m\u001b[1;33m\u001b[0m\u001b[0m\n\u001b[0m\u001b[0;32m    531\u001b[0m \u001b[1;33m\u001b[0m\u001b[0m\n\u001b[0;32m    532\u001b[0m         \u001b[1;32mreturn\u001b[0m \u001b[0mresp\u001b[0m\u001b[1;33m\u001b[0m\u001b[1;33m\u001b[0m\u001b[0m\n",
      "\u001b[1;32m~\\AppData\\Local\\Programs\\Python\\Python36\\lib\\site-packages\\requests\\sessions.py\u001b[0m in \u001b[0;36msend\u001b[1;34m(self, request, **kwargs)\u001b[0m\n\u001b[0;32m    641\u001b[0m \u001b[1;33m\u001b[0m\u001b[0m\n\u001b[0;32m    642\u001b[0m         \u001b[1;31m# Send the request\u001b[0m\u001b[1;33m\u001b[0m\u001b[1;33m\u001b[0m\u001b[1;33m\u001b[0m\u001b[0m\n\u001b[1;32m--> 643\u001b[1;33m         \u001b[0mr\u001b[0m \u001b[1;33m=\u001b[0m \u001b[0madapter\u001b[0m\u001b[1;33m.\u001b[0m\u001b[0msend\u001b[0m\u001b[1;33m(\u001b[0m\u001b[0mrequest\u001b[0m\u001b[1;33m,\u001b[0m \u001b[1;33m**\u001b[0m\u001b[0mkwargs\u001b[0m\u001b[1;33m)\u001b[0m\u001b[1;33m\u001b[0m\u001b[1;33m\u001b[0m\u001b[0m\n\u001b[0m\u001b[0;32m    644\u001b[0m \u001b[1;33m\u001b[0m\u001b[0m\n\u001b[0;32m    645\u001b[0m         \u001b[1;31m# Total elapsed time of the request (approximately)\u001b[0m\u001b[1;33m\u001b[0m\u001b[1;33m\u001b[0m\u001b[1;33m\u001b[0m\u001b[0m\n",
      "\u001b[1;32m~\\AppData\\Local\\Programs\\Python\\Python36\\lib\\site-packages\\requests\\adapters.py\u001b[0m in \u001b[0;36msend\u001b[1;34m(self, request, stream, timeout, verify, cert, proxies)\u001b[0m\n\u001b[0;32m    447\u001b[0m                     \u001b[0mdecode_content\u001b[0m\u001b[1;33m=\u001b[0m\u001b[1;32mFalse\u001b[0m\u001b[1;33m,\u001b[0m\u001b[1;33m\u001b[0m\u001b[1;33m\u001b[0m\u001b[0m\n\u001b[0;32m    448\u001b[0m                     \u001b[0mretries\u001b[0m\u001b[1;33m=\u001b[0m\u001b[0mself\u001b[0m\u001b[1;33m.\u001b[0m\u001b[0mmax_retries\u001b[0m\u001b[1;33m,\u001b[0m\u001b[1;33m\u001b[0m\u001b[1;33m\u001b[0m\u001b[0m\n\u001b[1;32m--> 449\u001b[1;33m                     \u001b[0mtimeout\u001b[0m\u001b[1;33m=\u001b[0m\u001b[0mtimeout\u001b[0m\u001b[1;33m\u001b[0m\u001b[1;33m\u001b[0m\u001b[0m\n\u001b[0m\u001b[0;32m    450\u001b[0m                 )\n\u001b[0;32m    451\u001b[0m \u001b[1;33m\u001b[0m\u001b[0m\n",
      "\u001b[1;32m~\\AppData\\Local\\Programs\\Python\\Python36\\lib\\site-packages\\urllib3\\connectionpool.py\u001b[0m in \u001b[0;36murlopen\u001b[1;34m(self, method, url, body, headers, retries, redirect, assert_same_host, timeout, pool_timeout, release_conn, chunked, body_pos, **response_kw)\u001b[0m\n\u001b[0;32m    675\u001b[0m                 \u001b[0mbody\u001b[0m\u001b[1;33m=\u001b[0m\u001b[0mbody\u001b[0m\u001b[1;33m,\u001b[0m\u001b[1;33m\u001b[0m\u001b[1;33m\u001b[0m\u001b[0m\n\u001b[0;32m    676\u001b[0m                 \u001b[0mheaders\u001b[0m\u001b[1;33m=\u001b[0m\u001b[0mheaders\u001b[0m\u001b[1;33m,\u001b[0m\u001b[1;33m\u001b[0m\u001b[1;33m\u001b[0m\u001b[0m\n\u001b[1;32m--> 677\u001b[1;33m                 \u001b[0mchunked\u001b[0m\u001b[1;33m=\u001b[0m\u001b[0mchunked\u001b[0m\u001b[1;33m,\u001b[0m\u001b[1;33m\u001b[0m\u001b[1;33m\u001b[0m\u001b[0m\n\u001b[0m\u001b[0;32m    678\u001b[0m             )\n\u001b[0;32m    679\u001b[0m \u001b[1;33m\u001b[0m\u001b[0m\n",
      "\u001b[1;32m~\\AppData\\Local\\Programs\\Python\\Python36\\lib\\site-packages\\urllib3\\connectionpool.py\u001b[0m in \u001b[0;36m_make_request\u001b[1;34m(self, conn, method, url, timeout, chunked, **httplib_request_kw)\u001b[0m\n\u001b[0;32m    424\u001b[0m                     \u001b[1;31m# Python 3 (including for exceptions like SystemExit).\u001b[0m\u001b[1;33m\u001b[0m\u001b[1;33m\u001b[0m\u001b[1;33m\u001b[0m\u001b[0m\n\u001b[0;32m    425\u001b[0m                     \u001b[1;31m# Otherwise it looks like a bug in the code.\u001b[0m\u001b[1;33m\u001b[0m\u001b[1;33m\u001b[0m\u001b[1;33m\u001b[0m\u001b[0m\n\u001b[1;32m--> 426\u001b[1;33m                     \u001b[0msix\u001b[0m\u001b[1;33m.\u001b[0m\u001b[0mraise_from\u001b[0m\u001b[1;33m(\u001b[0m\u001b[0me\u001b[0m\u001b[1;33m,\u001b[0m \u001b[1;32mNone\u001b[0m\u001b[1;33m)\u001b[0m\u001b[1;33m\u001b[0m\u001b[1;33m\u001b[0m\u001b[0m\n\u001b[0m\u001b[0;32m    427\u001b[0m         \u001b[1;32mexcept\u001b[0m \u001b[1;33m(\u001b[0m\u001b[0mSocketTimeout\u001b[0m\u001b[1;33m,\u001b[0m \u001b[0mBaseSSLError\u001b[0m\u001b[1;33m,\u001b[0m \u001b[0mSocketError\u001b[0m\u001b[1;33m)\u001b[0m \u001b[1;32mas\u001b[0m \u001b[0me\u001b[0m\u001b[1;33m:\u001b[0m\u001b[1;33m\u001b[0m\u001b[1;33m\u001b[0m\u001b[0m\n\u001b[0;32m    428\u001b[0m             \u001b[0mself\u001b[0m\u001b[1;33m.\u001b[0m\u001b[0m_raise_timeout\u001b[0m\u001b[1;33m(\u001b[0m\u001b[0merr\u001b[0m\u001b[1;33m=\u001b[0m\u001b[0me\u001b[0m\u001b[1;33m,\u001b[0m \u001b[0murl\u001b[0m\u001b[1;33m=\u001b[0m\u001b[0murl\u001b[0m\u001b[1;33m,\u001b[0m \u001b[0mtimeout_value\u001b[0m\u001b[1;33m=\u001b[0m\u001b[0mread_timeout\u001b[0m\u001b[1;33m)\u001b[0m\u001b[1;33m\u001b[0m\u001b[1;33m\u001b[0m\u001b[0m\n",
      "\u001b[1;32m~\\AppData\\Local\\Programs\\Python\\Python36\\lib\\site-packages\\urllib3\\packages\\six.py\u001b[0m in \u001b[0;36mraise_from\u001b[1;34m(value, from_value)\u001b[0m\n",
      "\u001b[1;32m~\\AppData\\Local\\Programs\\Python\\Python36\\lib\\site-packages\\urllib3\\connectionpool.py\u001b[0m in \u001b[0;36m_make_request\u001b[1;34m(self, conn, method, url, timeout, chunked, **httplib_request_kw)\u001b[0m\n\u001b[0;32m    419\u001b[0m                 \u001b[1;31m# Python 3\u001b[0m\u001b[1;33m\u001b[0m\u001b[1;33m\u001b[0m\u001b[1;33m\u001b[0m\u001b[0m\n\u001b[0;32m    420\u001b[0m                 \u001b[1;32mtry\u001b[0m\u001b[1;33m:\u001b[0m\u001b[1;33m\u001b[0m\u001b[1;33m\u001b[0m\u001b[0m\n\u001b[1;32m--> 421\u001b[1;33m                     \u001b[0mhttplib_response\u001b[0m \u001b[1;33m=\u001b[0m \u001b[0mconn\u001b[0m\u001b[1;33m.\u001b[0m\u001b[0mgetresponse\u001b[0m\u001b[1;33m(\u001b[0m\u001b[1;33m)\u001b[0m\u001b[1;33m\u001b[0m\u001b[1;33m\u001b[0m\u001b[0m\n\u001b[0m\u001b[0;32m    422\u001b[0m                 \u001b[1;32mexcept\u001b[0m \u001b[0mBaseException\u001b[0m \u001b[1;32mas\u001b[0m \u001b[0me\u001b[0m\u001b[1;33m:\u001b[0m\u001b[1;33m\u001b[0m\u001b[1;33m\u001b[0m\u001b[0m\n\u001b[0;32m    423\u001b[0m                     \u001b[1;31m# Remove the TypeError from the exception chain in\u001b[0m\u001b[1;33m\u001b[0m\u001b[1;33m\u001b[0m\u001b[1;33m\u001b[0m\u001b[0m\n",
      "\u001b[1;32m~\\AppData\\Local\\Programs\\Python\\Python36\\lib\\http\\client.py\u001b[0m in \u001b[0;36mgetresponse\u001b[1;34m(self)\u001b[0m\n\u001b[0;32m   1329\u001b[0m         \u001b[1;32mtry\u001b[0m\u001b[1;33m:\u001b[0m\u001b[1;33m\u001b[0m\u001b[1;33m\u001b[0m\u001b[0m\n\u001b[0;32m   1330\u001b[0m             \u001b[1;32mtry\u001b[0m\u001b[1;33m:\u001b[0m\u001b[1;33m\u001b[0m\u001b[1;33m\u001b[0m\u001b[0m\n\u001b[1;32m-> 1331\u001b[1;33m                 \u001b[0mresponse\u001b[0m\u001b[1;33m.\u001b[0m\u001b[0mbegin\u001b[0m\u001b[1;33m(\u001b[0m\u001b[1;33m)\u001b[0m\u001b[1;33m\u001b[0m\u001b[1;33m\u001b[0m\u001b[0m\n\u001b[0m\u001b[0;32m   1332\u001b[0m             \u001b[1;32mexcept\u001b[0m \u001b[0mConnectionError\u001b[0m\u001b[1;33m:\u001b[0m\u001b[1;33m\u001b[0m\u001b[1;33m\u001b[0m\u001b[0m\n\u001b[0;32m   1333\u001b[0m                 \u001b[0mself\u001b[0m\u001b[1;33m.\u001b[0m\u001b[0mclose\u001b[0m\u001b[1;33m(\u001b[0m\u001b[1;33m)\u001b[0m\u001b[1;33m\u001b[0m\u001b[1;33m\u001b[0m\u001b[0m\n",
      "\u001b[1;32m~\\AppData\\Local\\Programs\\Python\\Python36\\lib\\http\\client.py\u001b[0m in \u001b[0;36mbegin\u001b[1;34m(self)\u001b[0m\n\u001b[0;32m    295\u001b[0m         \u001b[1;31m# read until we get a non-100 response\u001b[0m\u001b[1;33m\u001b[0m\u001b[1;33m\u001b[0m\u001b[1;33m\u001b[0m\u001b[0m\n\u001b[0;32m    296\u001b[0m         \u001b[1;32mwhile\u001b[0m \u001b[1;32mTrue\u001b[0m\u001b[1;33m:\u001b[0m\u001b[1;33m\u001b[0m\u001b[1;33m\u001b[0m\u001b[0m\n\u001b[1;32m--> 297\u001b[1;33m             \u001b[0mversion\u001b[0m\u001b[1;33m,\u001b[0m \u001b[0mstatus\u001b[0m\u001b[1;33m,\u001b[0m \u001b[0mreason\u001b[0m \u001b[1;33m=\u001b[0m \u001b[0mself\u001b[0m\u001b[1;33m.\u001b[0m\u001b[0m_read_status\u001b[0m\u001b[1;33m(\u001b[0m\u001b[1;33m)\u001b[0m\u001b[1;33m\u001b[0m\u001b[1;33m\u001b[0m\u001b[0m\n\u001b[0m\u001b[0;32m    298\u001b[0m             \u001b[1;32mif\u001b[0m \u001b[0mstatus\u001b[0m \u001b[1;33m!=\u001b[0m \u001b[0mCONTINUE\u001b[0m\u001b[1;33m:\u001b[0m\u001b[1;33m\u001b[0m\u001b[1;33m\u001b[0m\u001b[0m\n\u001b[0;32m    299\u001b[0m                 \u001b[1;32mbreak\u001b[0m\u001b[1;33m\u001b[0m\u001b[1;33m\u001b[0m\u001b[0m\n",
      "\u001b[1;32m~\\AppData\\Local\\Programs\\Python\\Python36\\lib\\http\\client.py\u001b[0m in \u001b[0;36m_read_status\u001b[1;34m(self)\u001b[0m\n\u001b[0;32m    256\u001b[0m \u001b[1;33m\u001b[0m\u001b[0m\n\u001b[0;32m    257\u001b[0m     \u001b[1;32mdef\u001b[0m \u001b[0m_read_status\u001b[0m\u001b[1;33m(\u001b[0m\u001b[0mself\u001b[0m\u001b[1;33m)\u001b[0m\u001b[1;33m:\u001b[0m\u001b[1;33m\u001b[0m\u001b[1;33m\u001b[0m\u001b[0m\n\u001b[1;32m--> 258\u001b[1;33m         \u001b[0mline\u001b[0m \u001b[1;33m=\u001b[0m \u001b[0mstr\u001b[0m\u001b[1;33m(\u001b[0m\u001b[0mself\u001b[0m\u001b[1;33m.\u001b[0m\u001b[0mfp\u001b[0m\u001b[1;33m.\u001b[0m\u001b[0mreadline\u001b[0m\u001b[1;33m(\u001b[0m\u001b[0m_MAXLINE\u001b[0m \u001b[1;33m+\u001b[0m \u001b[1;36m1\u001b[0m\u001b[1;33m)\u001b[0m\u001b[1;33m,\u001b[0m \u001b[1;34m\"iso-8859-1\"\u001b[0m\u001b[1;33m)\u001b[0m\u001b[1;33m\u001b[0m\u001b[1;33m\u001b[0m\u001b[0m\n\u001b[0m\u001b[0;32m    259\u001b[0m         \u001b[1;32mif\u001b[0m \u001b[0mlen\u001b[0m\u001b[1;33m(\u001b[0m\u001b[0mline\u001b[0m\u001b[1;33m)\u001b[0m \u001b[1;33m>\u001b[0m \u001b[0m_MAXLINE\u001b[0m\u001b[1;33m:\u001b[0m\u001b[1;33m\u001b[0m\u001b[1;33m\u001b[0m\u001b[0m\n\u001b[0;32m    260\u001b[0m             \u001b[1;32mraise\u001b[0m \u001b[0mLineTooLong\u001b[0m\u001b[1;33m(\u001b[0m\u001b[1;34m\"status line\"\u001b[0m\u001b[1;33m)\u001b[0m\u001b[1;33m\u001b[0m\u001b[1;33m\u001b[0m\u001b[0m\n",
      "\u001b[1;32m~\\AppData\\Local\\Programs\\Python\\Python36\\lib\\socket.py\u001b[0m in \u001b[0;36mreadinto\u001b[1;34m(self, b)\u001b[0m\n\u001b[0;32m    584\u001b[0m         \u001b[1;32mwhile\u001b[0m \u001b[1;32mTrue\u001b[0m\u001b[1;33m:\u001b[0m\u001b[1;33m\u001b[0m\u001b[1;33m\u001b[0m\u001b[0m\n\u001b[0;32m    585\u001b[0m             \u001b[1;32mtry\u001b[0m\u001b[1;33m:\u001b[0m\u001b[1;33m\u001b[0m\u001b[1;33m\u001b[0m\u001b[0m\n\u001b[1;32m--> 586\u001b[1;33m                 \u001b[1;32mreturn\u001b[0m \u001b[0mself\u001b[0m\u001b[1;33m.\u001b[0m\u001b[0m_sock\u001b[0m\u001b[1;33m.\u001b[0m\u001b[0mrecv_into\u001b[0m\u001b[1;33m(\u001b[0m\u001b[0mb\u001b[0m\u001b[1;33m)\u001b[0m\u001b[1;33m\u001b[0m\u001b[1;33m\u001b[0m\u001b[0m\n\u001b[0m\u001b[0;32m    587\u001b[0m             \u001b[1;32mexcept\u001b[0m \u001b[0mtimeout\u001b[0m\u001b[1;33m:\u001b[0m\u001b[1;33m\u001b[0m\u001b[1;33m\u001b[0m\u001b[0m\n\u001b[0;32m    588\u001b[0m                 \u001b[0mself\u001b[0m\u001b[1;33m.\u001b[0m\u001b[0m_timeout_occurred\u001b[0m \u001b[1;33m=\u001b[0m \u001b[1;32mTrue\u001b[0m\u001b[1;33m\u001b[0m\u001b[1;33m\u001b[0m\u001b[0m\n",
      "\u001b[1;32m~\\AppData\\Local\\Programs\\Python\\Python36\\lib\\ssl.py\u001b[0m in \u001b[0;36mrecv_into\u001b[1;34m(self, buffer, nbytes, flags)\u001b[0m\n\u001b[0;32m   1010\u001b[0m                   \u001b[1;34m\"non-zero flags not allowed in calls to recv_into() on %s\"\u001b[0m \u001b[1;33m%\u001b[0m\u001b[1;33m\u001b[0m\u001b[1;33m\u001b[0m\u001b[0m\n\u001b[0;32m   1011\u001b[0m                   self.__class__)\n\u001b[1;32m-> 1012\u001b[1;33m             \u001b[1;32mreturn\u001b[0m \u001b[0mself\u001b[0m\u001b[1;33m.\u001b[0m\u001b[0mread\u001b[0m\u001b[1;33m(\u001b[0m\u001b[0mnbytes\u001b[0m\u001b[1;33m,\u001b[0m \u001b[0mbuffer\u001b[0m\u001b[1;33m)\u001b[0m\u001b[1;33m\u001b[0m\u001b[1;33m\u001b[0m\u001b[0m\n\u001b[0m\u001b[0;32m   1013\u001b[0m         \u001b[1;32melse\u001b[0m\u001b[1;33m:\u001b[0m\u001b[1;33m\u001b[0m\u001b[1;33m\u001b[0m\u001b[0m\n\u001b[0;32m   1014\u001b[0m             \u001b[1;32mreturn\u001b[0m \u001b[0msocket\u001b[0m\u001b[1;33m.\u001b[0m\u001b[0mrecv_into\u001b[0m\u001b[1;33m(\u001b[0m\u001b[0mself\u001b[0m\u001b[1;33m,\u001b[0m \u001b[0mbuffer\u001b[0m\u001b[1;33m,\u001b[0m \u001b[0mnbytes\u001b[0m\u001b[1;33m,\u001b[0m \u001b[0mflags\u001b[0m\u001b[1;33m)\u001b[0m\u001b[1;33m\u001b[0m\u001b[1;33m\u001b[0m\u001b[0m\n",
      "\u001b[1;32m~\\AppData\\Local\\Programs\\Python\\Python36\\lib\\ssl.py\u001b[0m in \u001b[0;36mread\u001b[1;34m(self, len, buffer)\u001b[0m\n\u001b[0;32m    872\u001b[0m             \u001b[1;32mraise\u001b[0m \u001b[0mValueError\u001b[0m\u001b[1;33m(\u001b[0m\u001b[1;34m\"Read on closed or unwrapped SSL socket.\"\u001b[0m\u001b[1;33m)\u001b[0m\u001b[1;33m\u001b[0m\u001b[1;33m\u001b[0m\u001b[0m\n\u001b[0;32m    873\u001b[0m         \u001b[1;32mtry\u001b[0m\u001b[1;33m:\u001b[0m\u001b[1;33m\u001b[0m\u001b[1;33m\u001b[0m\u001b[0m\n\u001b[1;32m--> 874\u001b[1;33m             \u001b[1;32mreturn\u001b[0m \u001b[0mself\u001b[0m\u001b[1;33m.\u001b[0m\u001b[0m_sslobj\u001b[0m\u001b[1;33m.\u001b[0m\u001b[0mread\u001b[0m\u001b[1;33m(\u001b[0m\u001b[0mlen\u001b[0m\u001b[1;33m,\u001b[0m \u001b[0mbuffer\u001b[0m\u001b[1;33m)\u001b[0m\u001b[1;33m\u001b[0m\u001b[1;33m\u001b[0m\u001b[0m\n\u001b[0m\u001b[0;32m    875\u001b[0m         \u001b[1;32mexcept\u001b[0m \u001b[0mSSLError\u001b[0m \u001b[1;32mas\u001b[0m \u001b[0mx\u001b[0m\u001b[1;33m:\u001b[0m\u001b[1;33m\u001b[0m\u001b[1;33m\u001b[0m\u001b[0m\n\u001b[0;32m    876\u001b[0m             \u001b[1;32mif\u001b[0m \u001b[0mx\u001b[0m\u001b[1;33m.\u001b[0m\u001b[0margs\u001b[0m\u001b[1;33m[\u001b[0m\u001b[1;36m0\u001b[0m\u001b[1;33m]\u001b[0m \u001b[1;33m==\u001b[0m \u001b[0mSSL_ERROR_EOF\u001b[0m \u001b[1;32mand\u001b[0m \u001b[0mself\u001b[0m\u001b[1;33m.\u001b[0m\u001b[0msuppress_ragged_eofs\u001b[0m\u001b[1;33m:\u001b[0m\u001b[1;33m\u001b[0m\u001b[1;33m\u001b[0m\u001b[0m\n",
      "\u001b[1;32m~\\AppData\\Local\\Programs\\Python\\Python36\\lib\\ssl.py\u001b[0m in \u001b[0;36mread\u001b[1;34m(self, len, buffer)\u001b[0m\n\u001b[0;32m    629\u001b[0m         \"\"\"\n\u001b[0;32m    630\u001b[0m         \u001b[1;32mif\u001b[0m \u001b[0mbuffer\u001b[0m \u001b[1;32mis\u001b[0m \u001b[1;32mnot\u001b[0m \u001b[1;32mNone\u001b[0m\u001b[1;33m:\u001b[0m\u001b[1;33m\u001b[0m\u001b[1;33m\u001b[0m\u001b[0m\n\u001b[1;32m--> 631\u001b[1;33m             \u001b[0mv\u001b[0m \u001b[1;33m=\u001b[0m \u001b[0mself\u001b[0m\u001b[1;33m.\u001b[0m\u001b[0m_sslobj\u001b[0m\u001b[1;33m.\u001b[0m\u001b[0mread\u001b[0m\u001b[1;33m(\u001b[0m\u001b[0mlen\u001b[0m\u001b[1;33m,\u001b[0m \u001b[0mbuffer\u001b[0m\u001b[1;33m)\u001b[0m\u001b[1;33m\u001b[0m\u001b[1;33m\u001b[0m\u001b[0m\n\u001b[0m\u001b[0;32m    632\u001b[0m         \u001b[1;32melse\u001b[0m\u001b[1;33m:\u001b[0m\u001b[1;33m\u001b[0m\u001b[1;33m\u001b[0m\u001b[0m\n\u001b[0;32m    633\u001b[0m             \u001b[0mv\u001b[0m \u001b[1;33m=\u001b[0m \u001b[0mself\u001b[0m\u001b[1;33m.\u001b[0m\u001b[0m_sslobj\u001b[0m\u001b[1;33m.\u001b[0m\u001b[0mread\u001b[0m\u001b[1;33m(\u001b[0m\u001b[0mlen\u001b[0m\u001b[1;33m)\u001b[0m\u001b[1;33m\u001b[0m\u001b[1;33m\u001b[0m\u001b[0m\n",
      "\u001b[1;31mKeyboardInterrupt\u001b[0m: "
     ]
    }
   ],
   "source": [
    "df10['location']=df10['country'].apply(lambda x : '' if(geolocater.geocode(x) is None)or (geolocater.geocode(x) == 'None') else geolocater.geocode(x)[0])"
   ]
  },
  {
   "cell_type": "code",
   "execution_count": null,
   "metadata": {},
   "outputs": [],
   "source": [
    "df10.to_csv(\"./전체국가통계_수정Ver_202006.csv\",index=False)"
   ]
  },
  {
   "cell_type": "code",
   "execution_count": 45,
   "metadata": {
    "tags": []
   },
   "outputs": [],
   "source": [
    "temp['id']=temp['id'].astype('object')"
   ]
  },
  {
   "cell_type": "code",
   "execution_count": 64,
   "metadata": {
    "tags": []
   },
   "outputs": [],
   "source": [
    "temp['id']=temp['id'].astype('int')\n",
    "df['id']=df['id'].astype('int')"
   ]
  },
  {
   "cell_type": "code",
   "execution_count": 71,
   "metadata": {},
   "outputs": [],
   "source": [
    "um=pd.merge(df,temp,on='id')"
   ]
  },
  {
   "cell_type": "code",
   "execution_count": 75,
   "metadata": {},
   "outputs": [],
   "source": [
    "um=um.drop_duplicates('id')"
   ]
  },
  {
   "cell_type": "code",
   "execution_count": 76,
   "metadata": {},
   "outputs": [],
   "source": [
    "um.to_csv(\"./promed_tableau.csv\",index=False)"
   ]
  },
  {
   "cell_type": "code",
   "execution_count": 42,
   "metadata": {},
   "outputs": [
    {
     "output_type": "error",
     "ename": "SyntaxError",
     "evalue": "invalid syntax (<ipython-input-42-f056d83780ad>, line 1)",
     "traceback": [
      "\u001b[1;36m  File \u001b[1;32m\"<ipython-input-42-f056d83780ad>\"\u001b[1;36m, line \u001b[1;32m1\u001b[0m\n\u001b[1;33m    {a:1,2,3,4,5,8,69,0}\u001b[0m\n\u001b[1;37m          ^\u001b[0m\n\u001b[1;31mSyntaxError\u001b[0m\u001b[1;31m:\u001b[0m invalid syntax\n"
     ]
    }
   ],
   "source": [
    "{a:1,2,3,4,5,8,69,0}"
   ]
  },
  {
   "cell_type": "code",
   "execution_count": 34,
   "metadata": {},
   "outputs": [],
   "source": [
    "a[0]=1,2,3,4,5\n",
    "a[1] = 9,8,7,6,5\n",
    "a[3] = 7,8,9,56,2"
   ]
  },
  {
   "cell_type": "code",
   "execution_count": 35,
   "metadata": {},
   "outputs": [],
   "source": [
    "z = pd.DataFrame(a)"
   ]
  },
  {
   "cell_type": "code",
   "execution_count": 36,
   "metadata": {},
   "outputs": [
    {
     "output_type": "execute_result",
     "data": {
      "text/plain": "   0  1   3\n0  1  9   7\n1  2  8   8\n2  3  7   9\n3  4  6  56\n4  5  5   2",
      "text/html": "<div>\n<style scoped>\n    .dataframe tbody tr th:only-of-type {\n        vertical-align: middle;\n    }\n\n    .dataframe tbody tr th {\n        vertical-align: top;\n    }\n\n    .dataframe thead th {\n        text-align: right;\n    }\n</style>\n<table border=\"1\" class=\"dataframe\">\n  <thead>\n    <tr style=\"text-align: right;\">\n      <th></th>\n      <th>0</th>\n      <th>1</th>\n      <th>3</th>\n    </tr>\n  </thead>\n  <tbody>\n    <tr>\n      <th>0</th>\n      <td>1</td>\n      <td>9</td>\n      <td>7</td>\n    </tr>\n    <tr>\n      <th>1</th>\n      <td>2</td>\n      <td>8</td>\n      <td>8</td>\n    </tr>\n    <tr>\n      <th>2</th>\n      <td>3</td>\n      <td>7</td>\n      <td>9</td>\n    </tr>\n    <tr>\n      <th>3</th>\n      <td>4</td>\n      <td>6</td>\n      <td>56</td>\n    </tr>\n    <tr>\n      <th>4</th>\n      <td>5</td>\n      <td>5</td>\n      <td>2</td>\n    </tr>\n  </tbody>\n</table>\n</div>"
     },
     "metadata": {},
     "execution_count": 36
    }
   ],
   "source": [
    "z"
   ]
  },
  {
   "cell_type": "code",
   "execution_count": 39,
   "metadata": {},
   "outputs": [
    {
     "output_type": "error",
     "ename": "ValueError",
     "evalue": "boxplot is not a valid plot kind",
     "traceback": [
      "\u001b[1;31m---------------------------------------------------------------------------\u001b[0m",
      "\u001b[1;31mValueError\u001b[0m                                Traceback (most recent call last)",
      "\u001b[1;32m<ipython-input-39-292ff9bb54e6>\u001b[0m in \u001b[0;36m<module>\u001b[1;34m\u001b[0m\n\u001b[1;32m----> 1\u001b[1;33m \u001b[0mz\u001b[0m\u001b[1;33m.\u001b[0m\u001b[0mplot\u001b[0m\u001b[1;33m(\u001b[0m\u001b[0mkind\u001b[0m\u001b[1;33m=\u001b[0m\u001b[1;34m'boxplot'\u001b[0m\u001b[1;33m)\u001b[0m\u001b[1;33m\u001b[0m\u001b[1;33m\u001b[0m\u001b[0m\n\u001b[0m",
      "\u001b[1;32m~\\AppData\\Local\\Programs\\Python\\Python36\\lib\\site-packages\\pandas\\plotting\\_core.py\u001b[0m in \u001b[0;36m__call__\u001b[1;34m(self, *args, **kwargs)\u001b[0m\n\u001b[0;32m    778\u001b[0m \u001b[1;33m\u001b[0m\u001b[0m\n\u001b[0;32m    779\u001b[0m         \u001b[1;32mif\u001b[0m \u001b[0mkind\u001b[0m \u001b[1;32mnot\u001b[0m \u001b[1;32min\u001b[0m \u001b[0mself\u001b[0m\u001b[1;33m.\u001b[0m\u001b[0m_all_kinds\u001b[0m\u001b[1;33m:\u001b[0m\u001b[1;33m\u001b[0m\u001b[1;33m\u001b[0m\u001b[0m\n\u001b[1;32m--> 780\u001b[1;33m             \u001b[1;32mraise\u001b[0m \u001b[0mValueError\u001b[0m\u001b[1;33m(\u001b[0m\u001b[1;34mf\"{kind} is not a valid plot kind\"\u001b[0m\u001b[1;33m)\u001b[0m\u001b[1;33m\u001b[0m\u001b[1;33m\u001b[0m\u001b[0m\n\u001b[0m\u001b[0;32m    781\u001b[0m \u001b[1;33m\u001b[0m\u001b[0m\n\u001b[0;32m    782\u001b[0m         \u001b[1;31m# The original data structured can be transformed before passed to the\u001b[0m\u001b[1;33m\u001b[0m\u001b[1;33m\u001b[0m\u001b[1;33m\u001b[0m\u001b[0m\n",
      "\u001b[1;31mValueError\u001b[0m: boxplot is not a valid plot kind"
     ]
    }
   ],
   "source": [
    "boxplot = df.boxplot(column=['Col1', 'Col2', 'Col3'])"
   ]
  },
  {
   "cell_type": "code",
   "execution_count": 36,
   "metadata": {
    "tags": []
   },
   "outputs": [
    {
     "output_type": "stream",
     "name": "stdout",
     "text": "None\n"
    }
   ],
   "source": [
    "print(geolocater.geocode('west africa nigeria'))"
   ]
  },
  {
   "cell_type": "code",
   "execution_count": null,
   "metadata": {},
   "outputs": [],
   "source": []
  },
  {
   "cell_type": "code",
   "execution_count": 17,
   "metadata": {},
   "outputs": [],
   "source": [
    "a={2,3,3,5} #tuple"
   ]
  },
  {
   "cell_type": "code",
   "execution_count": 18,
   "metadata": {},
   "outputs": [
    {
     "output_type": "execute_result",
     "data": {
      "text/plain": "set"
     },
     "metadata": {},
     "execution_count": 18
    }
   ],
   "source": [
    "type(a)"
   ]
  },
  {
   "cell_type": "code",
   "execution_count": 21,
   "metadata": {},
   "outputs": [
    {
     "output_type": "execute_result",
     "data": {
      "text/plain": "{0: 1}"
     },
     "metadata": {},
     "execution_count": 21
    }
   ],
   "source": [
    "a "
   ]
  },
  {
   "cell_type": "code",
   "execution_count": 20,
   "metadata": {},
   "outputs": [],
   "source": [
    "a[0]=1"
   ]
  },
  {
   "cell_type": "code",
   "execution_count": 12,
   "metadata": {},
   "outputs": [],
   "source": [
    "a = (2,3,3,5)"
   ]
  },
  {
   "cell_type": "code",
   "execution_count": 13,
   "metadata": {},
   "outputs": [
    {
     "output_type": "execute_result",
     "data": {
      "text/plain": "(2, 3, 3, 5)"
     },
     "metadata": {},
     "execution_count": 13
    }
   ],
   "source": [
    "a"
   ]
  },
  {
   "cell_type": "code",
   "execution_count": null,
   "metadata": {},
   "outputs": [],
   "source": []
  },
  {
   "cell_type": "code",
   "execution_count": null,
   "metadata": {},
   "outputs": [],
   "source": []
  },
  {
   "cell_type": "code",
   "execution_count": 2,
   "metadata": {},
   "outputs": [],
   "source": [
    "from geopy.geocoders import Nominatim\n",
    "host='nominatim.openstreetmap.org'\n",
    "geolocater=Nominatim(domain=host, timeout=8, user_agent=\"ms.kim1\")"
   ]
  },
  {
   "cell_type": "code",
   "execution_count": 5,
   "metadata": {},
   "outputs": [
    {
     "output_type": "execute_result",
     "data": {
      "text/plain": "40.119918"
     },
     "metadata": {},
     "execution_count": 5
    }
   ],
   "source": [
    "address=geolocater.geocode('north korea south hamgyong')\n",
    "address.latitude"
   ]
  },
  {
   "cell_type": "code",
   "execution_count": 6,
   "metadata": {},
   "outputs": [
    {
     "output_type": "execute_result",
     "data": {
      "text/plain": "127.5990989"
     },
     "metadata": {},
     "execution_count": 6
    }
   ],
   "source": [
    "address.longitude"
   ]
  },
  {
   "cell_type": "code",
   "execution_count": null,
   "metadata": {},
   "outputs": [],
   "source": []
  },
  {
   "cell_type": "code",
   "execution_count": 29,
   "metadata": {},
   "outputs": [],
   "source": [
    "text = ''' A vegetable farm in Chongpyong County [South Hamgyong province] suffered from poor crop yields due to pests and disease. The farm produces cabbage and cucumber, but the cabbage began rotting from the roots and falling apart due to damage from an unidentified disease, along with pests. The farm was only able to meet 40% of its production target.The farmers attempted to salvage the situation on their own, but were ultimately unable to do so. [They] requested that authorities find ways to resolve the problem, noting that even if the rotting cabbage was quickly harvested and delivered to Pyongyang, it would likely be completely rotten by the time it arrived.The authorities quickly formed a team of \"plant disease control experts\" [which] discovered that instead of purple cabbage seeds, the farm had planted regular large cabbage seeds. This led to disease and pests appearing on the roots. The farm already knew that only the purple seeds were suitable for the soil, [but] were unable to acquire any of the right seeds last year [2019].Farmers are reportedly in the process of fumigating their facilities and turning the rotten cabbage into compost.'''"
   ]
  },
  {
   "cell_type": "code",
   "execution_count": 1,
   "metadata": {},
   "outputs": [],
   "source": [
    "from Giveme5W1H.extractor.document import Document\n",
    "from Giveme5W1H.extractor.extractor import MasterExtractor\n",
    "from Giveme5W1H.extractor.preprocessors import preprocessor_core_nlp\n",
    "\n",
    "extractor = MasterExtractor()"
   ]
  },
  {
   "cell_type": "code",
   "execution_count": 31,
   "metadata": {
    "tags": []
   },
   "outputs": [],
   "source": [
    "doc = Document.from_text(text)\n",
    "# or: doc = Document(title, lead, text, date_publish) \n",
    "doc = extractor.parse(doc)"
   ]
  },
  {
   "cell_type": "code",
   "execution_count": 32,
   "metadata": {},
   "outputs": [
    {
     "output_type": "execute_result",
     "data": {
      "text/plain": "{'what': [], 'who': [], 'why': [], 'where': [], 'when': [], 'how': []}"
     },
     "metadata": {},
     "execution_count": 32
    }
   ],
   "source": [
    "doc._annotations"
   ]
  },
  {
   "cell_type": "code",
   "execution_count": 35,
   "metadata": {
    "tags": []
   },
   "outputs": [
    {
     "output_type": "execute_result",
     "data": {
      "text/plain": "'The farm'"
     },
     "metadata": {},
     "execution_count": 35
    }
   ],
   "source": [
    "# doc.get_top_answer('who').get_parts_as_text()\n",
    "# doc.get_top_answer('where').get_parts_as_text()\n",
    "# doc.get_top_answer('when').get_parts_as_text()\n",
    "# doc.get_top_answer('how').get_parts_as_text() from poor crop yields due to pests and disease\n",
    "# doc.get_top_answer('what').get_parts_as_text() produces cabbage and cucumber'\n",
    "# doc.get_top_answer('why').get_parts_as_text() The farm\n",
    "# print(top_who_answer)"
   ]
  },
  {
   "cell_type": "code",
   "execution_count": 12,
   "metadata": {},
   "outputs": [
    {
     "output_type": "execute_result",
     "data": {
      "text/plain": "<Giveme5W1H.extractor.document.Document at 0x1b09c157208>"
     },
     "metadata": {},
     "execution_count": 12
    }
   ],
   "source": [
    "doc"
   ]
  },
  {
   "cell_type": "code",
   "execution_count": 11,
   "metadata": {
    "tags": []
   },
   "outputs": [
    {
     "output_type": "execute_result",
     "data": {
      "text/plain": "en': {'index': 7, 'word': 'individuals', 'originalText': 'individuals', 'lemma': 'individual', 'characterOffsetBegin': 5582, 'characterOffsetEnd': 5593, 'pos': 'NNS', 'ner': 'O', 'speaker': 'PER0', 'before': ' ', 'after': ' '}}])]), ParentedTree('VP', [ParentedTree('VBP', [{'nlpToken': {'index': 8, 'word': 'are', 'originalText': 'are', 'lemma': 'be', 'characterOffsetBegin': 5594, 'characterOffsetEnd': 5597, 'pos': 'VBP', 'ner': 'O', 'speaker': 'PER0', 'before': ' ', 'after': ' '}}]), ParentedTree('PP', [ParentedTree('IN', [{'nlpToken': {'index': 9, 'word': 'in', 'originalText': 'in', 'lemma': 'in', 'characterOffsetBegin': 5598, 'characterOffsetEnd': 5600, 'pos': 'IN', 'ner': 'O', 'speaker': 'PER0', 'before': ' ', 'after': ' '}}]), ParentedTree('NP', [ParentedTree('NP', [ParentedTree('NN', [{'nlpToken': {'index': 10, 'word': 'contact', 'originalText': 'contact', 'lemma': 'contact', 'characterOffsetBegin': 5601, 'characterOffsetEnd': 5608, 'pos': 'NN', 'ner': 'O', 'speaker': 'PER0', 'before': ' ', 'after': ' '}}])]), ParentedTree('PP', [ParentedTree('IN', [{'nlpToken': {'index': 11, 'word': 'with', 'originalText': 'with', 'lemma': 'with', 'characterOffsetBegin': 5609, 'characterOffsetEnd': 5613, 'pos': 'IN', 'ner': 'O', 'speaker': 'PER0', 'before': ' ', 'after': ' '}}]), ParentedTree('NP', [ParentedTree('JJ', [{'nlpToken': {'index': 12, 'word': 'rodent', 'originalText': 'rodent', 'lemma': 'rodent', 'characterOffsetBegin': 5614, 'characterOffsetEnd': 5620, 'pos': 'JJ', 'ner': 'O', 'speaker': 'PER0', 'before': ' ', 'after': ' '}}]), ParentedTree('NN', [{'nlpToken': {'index': 13, 'word': 'reservoir', 'originalText': 'reservoir', 'lemma': 'reservoir', 'characterOffsetBegin': 5621, 'characterOffsetEnd': 5630, 'pos': 'NN', 'ner': 'O', 'speaker': 'PER0', 'before': ' ', 'after': ' '}}]), ParentedTree('NN', [{'nlpToken': {'index': 14, 'word': 'host', 'originalText': 'host', 'lemma': 'host', 'characterOffsetBegin': 5631, 'characterOffsetEnd': 5635, 'pos': 'NN', 'ner': 'O', 'speaker': 'PER0', 'before': ' ', 'after': ' '}}]), ParentedTree('NN', [{'nlpToken': {'index': 15, 'word': 'excreta', 'originalText': 'excreta', 'lemma': 'excreta', 'characterOffsetBegin': 5636, 'characterOffsetEnd': 5643, 'pos': 'NN', 'ner': 'O', 'speaker': 'PER0', 'before': ' ', 'after': ' '}}])])])])])])])])]), ParentedTree('CC', [{'nlpToken': {'index': 16, 'word': 'or', 'originalText': 'or', 'lemma': 'or', 'characterOffsetBegin': 5644, 'characterOffsetEnd': 5646, 'pos': 'CC', 'ner': 'O', 'speaker': 'PER0', 'before': ' ', 'after': ' '}}]), ParentedTree('VP', [ParentedTree('VBP', [{'nlpToken': {'index': 17, 'word': 'are', 'originalText': 'are', 'lemma': 'be', 'characterOffsetBegin': 5647, 'characterOffsetEnd': 5650, 'pos': 'VBP', 'ner': 'O', 'speaker': 'PER0', 'before': ' ', 'after': ' '}}]), ParentedTree('PP', [ParentedTree('IN', [{'nlpToken': {'index': 18, 'word': 'within', 'originalText': 'within', 'lemma': 'within', 'characterOffsetBegin': 5651, 'characterOffsetEnd': 5657, 'pos': 'IN', 'ner': 'O', 'speaker': 'PER0', 'before': ' ', 'after': ' '}}]), ParentedTree('NP', [ParentedTree('NN', [{'nlpToken': {'index': 19, 'word': 'healthcare', 'originalText': 'healthcare', 'lemma': 'healthcare', 'characterOffsetBegin': 5658, 'characterOffsetEnd': 5668, 'pos': 'NN', 'ner': 'O', 'speaker': 'PER0', 'before': ' ', 'after': ' '}}]), ParentedTree('NNS', [{'nlpToken': {'index': 20, 'word': 'facilities', 'originalText': 'facilities', 'lemma': 'facility', 'characterOffsetBegin': 5669, 'characterOffsetEnd': 5679, 'pos': 'NNS', 'ner': 'O', 'speaker': 'PER0', 'before': ' ', 'after': ''}}])])])])]), ParentedTree('.', [{'nlpToken': {'index': 21, 'word': '.', 'originalText': '.', 'lemma': '.', 'characterOffsetBegin': 5679, 'characterOffsetEnd': 5680, 'pos': '.', 'ner': 'O', 'speaker': 'PER0', 'before': '', 'after': ' '}}])])]),\n ParentedTree('ROOT', [ParentedTree('S', [ParentedTree('S', [ParentedTree('NP', [ParentedTree('PRP', [{'nlpToken': {'index': 1, 'word': 'it', 'originalText': 'it', 'lemma': 'it', 'characterOffsetBegin': 5681, 'characterOffsetEnd': 5683, 'pos': 'PRP', 'ner': 'O', 'speaker': 'PER0', 'before': ' ', 'after': ' '}}])]), ParentedTree('VP', [ParentedTree('VBZ', [{'nlpToken': {'index': 2, 'word': 'is', 'originalText': 'is', 'lemma': 'be', 'characterOffsetBegin': 5684, 'characterOffsetEnd': 5686, 'pos': 'VBZ', 'ner': 'O', 'speaker': 'PER0', 'before': ' ', 'after': ' '}}]), ParentedTree('VP', [ParentedTree('VBG', [{'nlpToken': {'index': 3, 'word': 'encouraging', 'originalText': 'encouraging', 'lemma': 'encourage', 'characterOffsetBegin': 5687, 'characterOffsetEnd': 5698, 'pos': 'VBG', 'ner': 'O', 'speaker': 'PER0', 'before': ' ', 'after': ' '}}]), ParentedTree('S', [ParentedTree('VP', [ParentedTree('TO', [{'nlpToken': {'index': 4, 'word': 'to', 'originalText': 'to', 'lemma': 'to', 'characterOffsetBegin': 5699, 'characterOffsetEnd': 5701, 'pos': 'TO', 'ner': 'O', 'speaker': 'PER0', 'before': ' ', 'after': ' '}}]), ParentedTree('VP', [ParentedTree('VB', [{'nlpToken': {'index': 5, 'word': 'learn', 'originalText': 'learn', 'lemma': 'learn', 'characterOffsetBegin': 5702, 'characterOffsetEnd': 5707, 'pos': 'VB', 'ner': 'O', 'speaker': 'PER0', 'before': ' ', 'after': ' '}}]), ParentedTree('NP', [ParentedTree('DT', [{'nlpToken': {'index': 6, 'word': 'that', 'originalText': 'that', 'lemma': 'that', 'characterOffsetBegin': 5708, 'characterOffsetEnd': 5712, 'pos': 'DT', 'ner': 'O', 'speaker': 'PER0', 'before': ' ', 'after': ' '}}]), ParentedTree('NN', [{'nlpToken': {'index': 7, 'word': 'risk', 'originalText': 'risk', 'lemma': 'risk', 'characterOffsetBegin': 5713, 'characterOffsetEnd': 5717, 'pos': 'NN', 'ner': 'O', 'speaker': 'PER0', 'before': ' ', 'after': ' '}}]), ParentedTree('NNS', [{'nlpToken': {'index': 8, 'word': 'communications', 'originalText': 'communications', 'lemma': 'communication', 'characterOffsetBegin': 5718, 'characterOffsetEnd': 5732, 'pos': 'NNS', 'ner': 'O', 'speaker': 'PER0', 'before': ' ', 'after': ' '}}])])])])])])])]), ParentedTree('CC', [{'nlpToken': {'index': 9, 'word': 'and', 'originalText': 'and', 'lemma': 'and', 'characterOffsetBegin': 5733, 'characterOffsetEnd': 5736, 'pos': 'CC', 'ner': 'O', 'speaker': 'PER0', 'before': ' ', 'after': ' '}}]), ParentedTree('S', [ParentedTree('NP', [ParentedTree('NN', [{'nlpToken': {'index': 10, 'word': 'community', 'originalText': 'community', 'lemma': 'community', 'characterOffsetBegin': 5737, 'characterOffsetEnd': 5746, 'pos': 'NN', 'ner': 'O', 'speaker': 'PER0', 'before': ' ', 'after': ' '}}]), ParentedTree('NN', [{'nlpToken': {'index': 11, 'word': 'engagement', 'originalText': 'engagement', 'lemma': 'engagement', 'characterOffsetBegin': 5747, 'characterOffsetEnd': 5757, 'pos': 'NN', 'ner': 'O', 'speaker': 'PER0', 'before': ' ', 'after': ' '}}]), ParentedTree('NNS', [{'nlpToken': {'index': 12, 'word': 'activities', 'originalText': 'activities', 'lemma': 'activity', 'characterOffsetBegin': 5758, 'characterOffsetEnd': 5768, 'pos': 'NNS', 'ner': 'O', 'speaker': 'PER0', 'before': ' ', 'after': ' '}}])]), ParentedTree('VP', [ParentedTree('VBP', [{'nlpToken': {'index': 13, 'word': 'have', 'originalText': 'have', 'lemma': 'have', 'characterOffsetBegin': 5769, 'characterOffsetEnd': 5773, 'pos': 'VBP', 'ner': 'O', 'speaker': 'PER0', 'before': ' ', 'after': ' '}}]), ParentedTree('VP', [ParentedTree('VBN', [{'nlpToken': {'index': 14, 'word': 'been', 'originalText': 'been', 'lemma': 'be', 'characterOffsetBegin': 5774, 'characterOffsetEnd': 5778, 'pos': 'VBN', 'ner': 'O', 'speaker': 'PER0', 'before': ' ', 'after': ' '}}]), ParentedTree('VP', [ParentedTree('VBN', [{'nlpToken': {'index': 15, 'word': 'scaled', 'originalText': 'scaled', 'lemma': 'scale', 'characterOffsetBegin': 5779, 'characterOffsetEnd': 5785, 'pos': 'VBN', 'ner': 'O', 'speaker': 'PER0', 'before': ' ', 'after': ' '}}]), ParentedTree('PRT', [ParentedTree('RP', [{'nlpToken': {'index': 16, 'word': 'up', 'originalText': 'up', 'lemma': 'up', 'characterOffsetBegin': 5786, 'characterOffsetEnd': 5788, 'pos': 'RP', 'ner': 'O', 'speaker': 'PER0', 'before': ' ', 'after': ' '}}])]), ParentedTree('PP', [ParentedTree('IN', [{'nlpToken': {'index': 17, 'word': 'across', 'originalText': 'across', 'lemma': 'across', 'characterOffsetBegin': 5789, 'characterOffsetEnd': 5795, 'pos': 'IN', 'ner': 'O', 'speaker': 'PER0', 'before': ' ', 'after': ' '}}]), ParentedTree('NP', [ParentedTree('NP', [ParentedTree('NNS', [{'nlpToken': {'index': 18, 'word': 'states', 'originalText': 'states', 'lemma': 'state', 'characterOffsetBegin': 5796, 'characterOffsetEnd': 5802, 'pos': 'NNS', 'ner': 'O', 'speaker': 'PER0', 'before': ' ', 'after': ' '}}])]), ParentedTree('VP', [ParentedTree('VBG', [{'nlpToken': {'index': 19, 'word': 'using', 'originalText': 'using', 'lemma': 'use', 'characterOffsetBegin': 5803, 'characterOffsetEnd': 5808, 'pos': 'VBG', 'ner': 'O', 'speaker': 'PER0', 'before': ' ', 'after': ' '}}]), ParentedTree('NP', [ParentedTree('NP', [ParentedTree('NP', [ParentedTree('NN', [{'nlpToken': {'index': 20, 'word': 'television', 'originalText': 'television', 'lemma': 'television', 'characterOffsetBegin': 5809, 'characterOffsetEnd': 5819, 'pos': 'NN', 'ner': 'O', 'speaker': 'PER0', 'before': ' ', 'after': ' '}}]), ParentedTree('NN', [{'nlpToken': {'index': 21, 'word': 'radio', 'originalText': 'radio', 'lemma': 'radio', 'characterOffsetBegin': 5820, 'characterOffsetEnd': 5825, 'pos': 'NN', 'ner': 'O', 'speaker': 'PER0', 'before': ' ', 'after': ' '}}]), ParentedTree('NN', [{'nlpToken': {'index': 22, 'word': 'print', 'originalText': 'print', 'lemma': 'print', 'characterOffsetBegin': 5826, 'characterOffsetEnd': 5831, 'pos': 'NN', 'ner': 'O', 'speaker': 'PER0', 'before': ' ', 'after': ' '}}])]), ParentedTree('NP', [ParentedTree('JJ', [{'nlpToken': {'index': 23, 'word': 'social', 'originalText': 'social', 'lemma': 'social', 'characterOffsetBegin': 5832, 'characterOffsetEnd': 5838, 'pos': 'JJ', 'ner': 'O', 'speaker': 'PER0', 'before': ' ', 'after': ' '}}]), ParentedTree('NNS', [{'nlpToken': {'index': 24, 'word': 'media', 'originalText': 'media', 'lemma': 'media', 'characterOffsetBegin': 5839, 'characterOffsetEnd': 5844, 'pos': 'NNS', 'ner': 'O', 'speaker': 'PER0', 'before': ' ', 'after': ' '}}])])]), ParentedTree('CC', [{'nlpToken': {'index': 25, 'word': 'and', 'originalText': 'and', 'lemma': 'and', 'characterOffsetBegin': 5845, 'characterOffsetEnd': 5848, 'pos': 'CC', 'ner': 'O', 'speaker': 'PER0', 'before': ' ', 'after': ' '}}]), ParentedTree('NP', [ParentedTree('NP', [ParentedTree('JJ', [{'nlpToken': {'index': 26, 'word': 'other', 'originalText': 'other', 'lemma': 'other', 'characterOffsetBegin': 5849, 'characterOffsetEnd': 5854, 'pos': 'JJ', 'ner': 'O', 'speaker': 'PER0', 'before': ' ', 'after': ' '}}]), ParentedTree('NNS', [{'nlpToken': {'index': 27, 'word': 'strategies', 'originalText': 'strategies', 'lemma': 'strategy', 'characterOffsetBegin': 5855, 'characterOffsetEnd': 5865, 'pos': 'NNS', 'ner': 'O', 'speaker': 'PER0', 'before': ' ', 'after': ' '}}])]), ParentedTree('PP', [ParentedTree('IN', [{'nlpToken': {'index': 28, 'word': 'for', 'originalText': 'for', 'lemma': 'for', 'characterOffsetBegin': 5866, 'characterOffsetEnd': 5869, 'pos': 'IN', 'ner': 'O', 'speaker': 'PER0', 'before': ' ', 'after': ' '}}]), ParentedTree('NP', [ParentedTree('NP', [ParentedTree('NN', [{'nlpToken': {'index': 29, 'word': 'avoidance', 'originalText': 'avoidance', 'lemma': 'avoidance', 'characterOffsetBegin': 5870, 'characterOffsetEnd': 5879, 'pos': 'NN', 'ner': 'O', 'speaker': 'PER0', 'before': ' ', 'after': ' '}}])]), ParentedTree('PP', [ParentedTree('IN', [{'nlpToken': {'index': 30, 'word': 'of', 'originalText': 'of', 'lemma': 'of', 'characterOffsetBegin': 5880, 'characterOffsetEnd': 5882, 'pos': 'IN', 'ner': 'O', 'speaker': 'PER0', 'before': ' ', 'after': ' '}}]), ParentedTree('NP', [ParentedTree('NN', [{'nlpToken': {'index': 31, 'word': 'contact', 'originalText': 'contact', 'lemma': 'contact', 'characterOffsetBegin': 5883, 'characterOffsetEnd': 5890, 'pos': 'NN', 'ner': 'O', 'speaker': 'PER0', 'before': ' ', 'after': ' '}}])])])])])])]), ParentedTree('PP', [ParentedTree('IN', [{'nlpToken': {'index': 32, 'word': 'with', 'originalText': 'with', 'lemma': 'with', 'characterOffsetBegin': 5891, 'characterOffsetEnd': 5895, 'pos': 'IN', 'ner': 'O', 'speaker': 'PER0', 'before': ' ', 'after': ' '}}]), ParentedTree('NP', [ParentedTree('NP', [ParentedTree('JJ', [{'nlpToken': {'index': 33, 'word': 'rodent', 'originalText': 'rodent', 'lemma': 'rodent', 'characterOffsetBegin': 5896, 'characterOffsetEnd': 5902, 'pos': 'JJ', 'ner': 'O', 'speaker': 'PER0', 'before': ' ', 'after': ' '}}]), ParentedTree('NN', [{'nlpToken': {'index': 34, 'word': 'virus', 'originalText': 'virus', 'lemma': 'virus', 'characterOffsetBegin': 5903, 'characterOffsetEnd': 5908, 'pos': 'NN', 'ner': 'O', 'speaker': 'PER0', 'before': ' ', 'after': ' '}}]), ParentedTree('NNS', [{'nlpToken': {'index': 35, 'word': 'reservoirs', 'originalText': 'reservoirs', 'lemma': 'reservoir', 'characterOffsetBegin': 5909, 'characterOffsetEnd': 5919, 'pos': 'NNS', 'ner': 'O', 'speaker': 'PER0', 'before': ' ', 'after': ' '}}])]), ParentedTree('CC', [{'nlpToken': {'index': 36, 'word': 'and', 'originalText': 'and', 'lemma': 'and', 'characterOffsetBegin': 5920, 'characterOffsetEnd': 5923, 'pos': 'CC', 'ner': 'O', 'speaker': 'PER0', 'before': ' ', 'after': ' '}}]), ParentedTree('NP', [ParentedTree('PRP$', [{'nlpToken': {'index': 37, 'word': 'their', 'originalText': 'their', 'lemma': 'they', 'characterOffsetBegin': 5924, 'characterOffsetEnd': 5929, 'pos': 'PRP$', 'ner': 'O', 'speaker': 'PER0', 'before': ' ', 'after': ' '}}]), ParentedTree('NN', [{'nlpToken': {'index': 38, 'word': 'excreta', 'originalText': 'excreta', 'lemma': 'excreta', 'characterOffsetBegin': 5930, 'characterOffsetEnd': 5937, 'pos': 'NN', 'ner': 'O', 'speaker': 'PER0', 'before': ' ', 'after': ''}}])])])])])])])])])])]), ParentedTree('.', [{'nlpToken': {'index': 39, 'word': '.', 'originalText': '.', 'lemma': '.', 'characterOffsetBegin': 5937, 'characterOffsetEnd': 5938, 'pos': '.', 'ner': 'O', 'speaker': 'PER0', 'before': '', 'after': ' '}}])])]),\n ParentedTree('ROOT', [ParentedTree('NP', [ParentedTree('NP', [ParentedTree('NNS', [{'nlpToken': {'index': 1, 'word': 'images', 'originalText': 'images', 'lemma': 'image', 'characterOffsetBegin': 5939, 'characterOffsetEnd': 5945, 'pos': 'NNS', 'ner': 'O', 'speaker': 'PER0', 'before': ' ', 'after': ' '}}])]), ParentedTree('PP', [ParentedTree('IN', [{'nlpToken': {'index': 2, 'word': 'of', 'originalText': 'of', 'lemma': 'of', 'characterOffsetBegin': 5946, 'characterOffsetEnd': 5948, 'pos': 'IN', 'ner': 'O', 'speaker': 'PER0', 'before': ' ', 'after': ' '}}]), ParentedTree('NP', [ParentedTree('DT', [{'nlpToken': {'index': 3, 'word': 'the', 'originalText': 'the', 'lemma': 'the', 'characterOffsetBegin': 5949, 'characterOffsetEnd': 5952, 'pos': 'DT', 'ner': 'O', 'speaker': 'PER0', 'before': ' ', 'after': ' '}}]), ParentedTree('JJ', [{'nlpToken': {'index': 4, 'word': 'rodent', 'originalText': 'rodent', 'lemma': 'rodent', 'characterOffsetBegin': 5953, 'characterOffsetEnd': 5959, 'pos': 'JJ', 'ner': 'O', 'speaker': 'PER0', 'before': ' ', 'after': ' '}}]), ParentedTree('NNS', [{'nlpToken': {'index': 5, 'word': 'reservoirs', 'originalText': 'reservoirs', 'lemma': 'reservoir', 'characterOffsetBegin': 5960, 'characterOffsetEnd': 5970, 'pos': 'NNS', 'ner': 'O', 'speaker': 'PER0', 'before': ' ', 'after': ' '}}])])]), ParentedTree('PP', [ParentedTree('IN', [{'nlpToken': {'index': 6, 'word': 'of', 'originalText': 'of', 'lemma': 'of', 'characterOffsetBegin': 5971, 'characterOffsetEnd': 5973, 'pos': 'IN', 'ner': 'O', 'speaker': 'PER0', 'before': ' ', 'after': ' '}}]), ParentedTree('NP', [ParentedTree('NP', [ParentedTree('JJ', [{'nlpToken': {'index': 7, 'word': 'lassa', 'originalText': 'lassa', 'lemma': 'lassa', 'characterOffsetBegin': 5974, 'characterOffsetEnd': 5979, 'pos': 'JJ', 'ner': 'O', 'speaker': 'PER0', 'before': ' ', 'after': ' '}}]), ParentedTree('NN', [{'nlpToken': {'index': 8, 'word': 'fever', 'originalText': 'fever', 'lemma': 'fever', 'characterOffsetBegin': 5980, 'characterOffsetEnd': 5985, 'pos': 'NN', 'ner': 'O', 'speaker': 'PER0', 'before': ' ', 'after': ' '}}]), ParentedTree('NN', [{'nlpToken': {'index': 9, 'word': 'virus', 'originalText': 'virus', 'lemma': 'virus', 'characterOffsetBegin': 5986, 'characterOffsetEnd': 5991, 'pos': 'NN', 'ner': 'O', 'speaker': 'PER0', 'before': ' ', 'after': ' '}}]), ParentedTree('NNS', [{'nlpToken': {'index': 10, 'word': 'mastomys', 'originalText': 'mastomys', 'lemma': 'mastomy', 'characterOffsetBegin': 5992, 'characterOffsetEnd': 6000, 'pos': 'NNS', 'ner': 'O', 'speaker': 'PER0', 'before': ' ', 'after': ' '}}]), ParentedTree('NN', [{'nlpToken': {'index': 11, 'word': 'natalensis', 'originalText': 'natalensis', 'lemma': 'natalensis', 'characterOffsetBegin': 6001, 'characterOffsetEnd': 6011, 'pos': 'NN', 'ner': 'O', 'speaker': 'PER0', 'before': ' ', 'after': '   '}}]), ParentedTree('NNS', [{'nlpToken': {'index': 12, 'word': 'mastomys', 'originalText': 'mastomys', 'lemma': 'mastomy', 'characterOffsetBegin': 6014, 'characterOffsetEnd': 6022, 'pos': 'NNS', 'ner': 'O', 'speaker': 'PER0', 'before': '   ', 'after': ' '}}]), ParentedTree('NN', [{'nlpToken': {'index': 13, 'word': 'erythroleucus', 'originalText': 'erythroleucus', 'lemma': 'erythroleucus', 'characterOffsetBegin': 6023, 'characterOffsetEnd': 6036, 'pos': 'NN', 'ner': 'O', 'speaker': 'PER0', 'before': ' ', 'after': ' '}}]), ParentedTree('CC', [{'nlpToken': {'index': 14, 'word': 'and', 'originalText': 'and', 'lemma': 'and', 'characterOffsetBegin': 6037, 'characterOffsetEnd': 6040, 'pos': 'CC', 'ner': 'O', 'speaker': 'PER0', 'before': ' ', 'after': ' '}}]), ParentedTree('NN', [{'nlpToken': {'index': 15, 'word': 'hylomyscus', 'originalText': 'hylomyscus', 'lemma': 'hylomyscus', 'characterOffsetBegin': 6041, 'characterOffsetEnd': 6051, 'pos': 'NN', 'ner': 'O', 'speaker': 'PER0', 'before': ' ', 'after': ' '}}]), ParentedTree('NN', [{'nlpToken': {'index': 16, 'word': 'pamfi', 'originalText': 'pamfi', 'lemma': 'pamfi', 'characterOffsetBegin': 6052, 'characterOffsetEnd': 6057, 'pos': 'NN', 'ner': 'O', 'speaker': 'PER0', 'before': ' ', 'after': '   '}}]), ParentedTree('NNS', [{'nlpToken': {'index': 17, 'word': 'maps', 'originalText': 'maps', 'lemma': 'map', 'characterOffsetBegin': 6060, 'characterOffsetEnd': 6064, 'pos': 'NNS', 'ner': 'O', 'speaker': 'PER0', 'before': '   ', 'after': ' '}}])]), ParentedTree('PP', [ParentedTree('IN', [{'nlpToken': {'index': 18, 'word': 'of', 'originalText': 'of', 'lemma': 'of', 'characterOffsetBegin': 6065, 'characterOffsetEnd': 6067, 'pos': 'IN', 'ner': 'O', 'speaker': 'PER0', 'before': ' ', 'after': ' '}}]), ParentedTree('NP', [ParentedTree('NNS', [{'nlpToken': {'index': 19, 'word': 'nigeria', 'originalText': 'nigeria', 'lemma': 'nigerium', 'characterOffsetBegin': 6068, 'characterOffsetEnd': 6075, 'pos': 'NNS', 'ner': 'O', 'speaker': 'PER0', 'before': ' ', 'after': '   '}}]), ParentedTree('CC', [{'nlpToken': {'index': 20, 'word': 'and', 'originalText': 'and', 'lemma': 'and', 'characterOffsetBegin': 6078, 'characterOffsetEnd': 6081, 'pos': 'CC', 'ner': 'O', 'speaker': 'PER0', 'before': '   ', 'after': '    '}}]), ParentedTree('NN', [{'nlpToken': {'index': 21, 'word': 'mod.ty', 'originalText': 'mod.ty', 'lemma': 'mod.ty', 'characterOffsetBegin': 6085, 'characterOffsetEnd': 6091, 'pos': 'NN', 'ner': 'O', 'speaker': 'PER0', 'before': '    ', 'after': ' '}}])])])])]), ParentedTree('.', [{'nlpToken': {'index': 22, 'word': '.', 'originalText': '.', 'lemma': '.', 'characterOffsetBegin': 6092, 'characterOffsetEnd': 6093, 'pos': '.', 'ner': 'O', 'speaker': 'PER0', 'before': ' ', 'after': ' '}}])])]),\n ParentedTree('ROOT', [ParentedTree('NP', [ParentedTree('.', [{'nlpToken': {'index': 1, 'word': '.', 'originalText': '.', 'lemma': '.', 'characterOffsetBegin': 6094, 'characterOffsetEnd': 6095, 'pos': '.', 'ner': 'O', 'speaker': 'PER0', 'before': ' ', 'after': ''}}])])])]"
     },
     "metadata": {},
     "execution_count": 11
    }
   ],
   "source": [
    "doc.get_trees()"
   ]
  },
  {
   "cell_type": "code",
   "execution_count": null,
   "metadata": {},
   "outputs": [],
   "source": []
  },
  {
   "cell_type": "code",
   "execution_count": null,
   "metadata": {},
   "outputs": [],
   "source": []
  },
  {
   "cell_type": "code",
   "execution_count": 126,
   "metadata": {},
   "outputs": [
    {
     "output_type": "execute_result",
     "data": {
      "text/plain": "'date: wed 1 jul 2020 from: ramon noseda edited status of rural carbuncle anthrax in argentina in 2019 -------------------------------------------------------- again after 42 years of permanent assessment of this zoonosis we insist on the fact that \"only persevering in the vaccination of bovines on an annual basis and in efficiently eliminating the carcasses of dead animals will facilitate the reduction of the load of _bacillus anthracis_ spores on the soils and will control this zoonosis.\" the various indicators assessed show significant progress but not enough for control. summary ------ 1. assessment area of rural carbuncle in the province of buenos aires: this area consists of 30 districts of the province. two districts olavarria and pehuajo presented sporadic outbreaks of \"bovine carbuncle.\" the outbreaks presented a common denominator: \"the partial vaccination in facilities\" in spite of the obligation to vaccinate all susceptible animals in the facility (law no. 6703/1961 - resolution no. 115/2014 province of buenos aires). the annual percentage distribution of carbuncle was 3% -- 2 percentage points above the record of the previous period even though the 1977-2019 percentage distribution still stands at 10%. 2. alert zone and response district of azul: there is a historic record of 67 bovine carbuncle outbreaks which resulted in 21 human alerts and 22 veterinary alerts since 2004. the last bovine carbuncle outbreak occurred in 2013 and as from such year no human cases have been recorded either. from the beginning up to 2019 3 181 724 bovines have been simultaneously vaccinated for foot-and-mouth disease and carbuncle. 3. isolations in other veterinary diagnostic labs: a new decrease of 7 percentage points against 2018 was evidenced in external monitoring labs collaborating with this report. the annual percentage distribution of bovine carbuncle for this period was 4.5%. the 4 isolations correspond to the province of la pampa. this province consists of 22 departments and 11 departments (50%) recorded at least one bovine carbuncle outbreak in their history (2016-2019). 4. districts of the province of buenos aires involved in carbuncle outbreaks: during 2019 4 sporadic bovine carbuncle outbreaks were recorded for this report in the districts of olavarria (1) rauch (1) and carlos casares (2). 5. production of anti-carbuncle vaccine for veterinary use: in 2019 the national health authority (senasa) approved 25 664 800 doses for use and commercialization around 4 160 710 more doses than in 2018. 6. mandatory simultaneous bovine vaccination: two areas of bovine anti-carbuncle vaccination were assessed in order to follow up the actions under vaccination programs: - (a) alert zone and response (district of azul province of buenos aires): in 2019 90% of the susceptible population were vaccinated whereas in 2018 98% were vaccinated which means 8 percentage points fewer vaccinated bovines. - (b) province of buenos aires: in 2019 93% of the susceptible population were vaccinated. in 2018 such figure reached 77% showing an increase of 16 percentage points as regards vaccinated animals. - (c) province of santa fe: during 2019 it was not possible to obtain self-proving information on this sanitary event. 7. cases of human carbuncle countrywide: due to the changes made to the national surveillance comprehensive bulletin issued by the national epidemiological surveillance system (sinave) in which human carbuncle cases are no longer reported it is not possible to provide such information. conclusions: - (a) there are still isolations of _b. anthracis_ in items 1 3 and 5 of the systematized assessment thus showing the endemic nature of bovine carbuncle. - (b) despite the increase in compliance with mandatory vaccination programs as provided by law they are not efficient in the control of stocks of susceptible animals of each cattle breeding facility in order to make immunization more effective. this is because not all susceptible animals in the roundups involved were vaccinated. - (c) the control of the negligence shared by cattle breeders and authorities in relation to animal health is part of the future solution. -- communicated by: ramon noseda cfo-director/microbiologist laboratorio azul diagnostico sa av. 25 de mayo 479 7300 - azul buenos aires argentina they are working very hard in argentina to get this disease fully controlled and eradicated. the disease has become truly sporadic and a common history is a failure to wholly or completely vaccinate the herds. when the owners fail to vaccinate or leave out a bunch it becomes public knowledge when the latter come down with anthrax. this brings back memories of the problems in the us dakotas which are now effectively clear of this disease despite the procrastinators. our thanks to ramon for his annual report and our full support for his hard work. - mod.mhj healthmap/promed-mail map: argentina:  http://healthmap.org/promed/p/4</a>  '"
     },
     "metadata": {},
     "execution_count": 126
    }
   ],
   "source": [
    "# df[df['id'] == '7530202']\n",
    "df['body'][19] #예외사항 어떻게 해결?"
   ]
  },
  {
   "cell_type": "code",
   "execution_count": null,
   "metadata": {},
   "outputs": [],
   "source": []
  },
  {
   "cell_type": "code",
   "execution_count": null,
   "metadata": {},
   "outputs": [],
   "source": []
  },
  {
   "cell_type": "code",
   "execution_count": 1,
   "metadata": {},
   "outputs": [],
   "source": [
    "import pandas as pd"
   ]
  },
  {
   "cell_type": "code",
   "execution_count": 98,
   "metadata": {},
   "outputs": [],
   "source": [
    "temp=pd.read_excel(\"./전체국가통계_202006.xlsx\",sheet_name=\"Sheet3\")"
   ]
  },
  {
   "cell_type": "code",
   "execution_count": 109,
   "metadata": {},
   "outputs": [],
   "source": [
    "country_list=temp['Unnamed: 0'].tolist()"
   ]
  },
  {
   "cell_type": "code",
   "execution_count": 111,
   "metadata": {},
   "outputs": [],
   "source": [
    "get_same_country=lambda x : '' if(geolocater.geocode(x) is None)or (geolocater.geocode(x) == 'None') else geolocater.geocode(x)[0]"
   ]
  },
  {
   "cell_type": "code",
   "execution_count": 114,
   "metadata": {
    "tags": []
   },
   "outputs": [],
   "source": [
    "a = list(map(get_same_country,country_list))"
   ]
  },
  {
   "cell_type": "code",
   "execution_count": 151,
   "metadata": {},
   "outputs": [],
   "source": [
    "columns_list=temp.columns.tolist()[1:]\n",
    "number=pd.DataFrame()\n",
    "date = pd.DataFrame()\n",
    "country = pd.DataFrame()"
   ]
  },
  {
   "cell_type": "code",
   "execution_count": 152,
   "metadata": {
    "tags": []
   },
   "outputs": [],
   "source": [
    "for c in columns_list:\n",
    "    number=pd.concat([number,temp[c]],axis=0)\n",
    "    country = pd.concat([country,temp.iloc[:,0]])\n",
    "    # location1 = pd.DataFrame(a)\n",
    "    date1 = pd.DataFrame([c]*len(temp))\n",
    "    date = pd.concat([date,date1])"
   ]
  },
  {
   "cell_type": "code",
   "execution_count": 153,
   "metadata": {},
   "outputs": [],
   "source": [
    "location = pd.DataFrame(a * len(columns_list))"
   ]
  },
  {
   "cell_type": "code",
   "execution_count": 154,
   "metadata": {},
   "outputs": [],
   "source": [
    "number.rename(columns={0:'number'},inplace=True)\n",
    "date.rename(columns={0:'date'},inplace=True)\n",
    "country.rename(columns={0:'country'},inplace=True)\n",
    "location.rename(columns={0:'location'},inplace=True)"
   ]
  },
  {
   "cell_type": "code",
   "execution_count": 155,
   "metadata": {},
   "outputs": [],
   "source": [
    "number.reset_index(drop=True,inplace=True)\n",
    "date.reset_index(drop=True,inplace=True)\n",
    "country.reset_index(drop=True,inplace=True)\n",
    "location.reset_index(drop=True,inplace=True)"
   ]
  },
  {
   "cell_type": "code",
   "execution_count": 156,
   "metadata": {},
   "outputs": [],
   "source": [
    "df=pd.concat([date,country,number,location],axis=1)"
   ]
  },
  {
   "cell_type": "code",
   "execution_count": 157,
   "metadata": {},
   "outputs": [
    {
     "output_type": "execute_result",
     "data": {
      "text/plain": "          date                                    country    number  \\\n0      2010.1월                                      Japan  209184.0   \n1      2010.1월                                     Taiwan   36399.0   \n2      2010.1월  Hong Kong, China(including Hong Kong ID.)   14545.0   \n3      2010.1월                                      Macao     554.0   \n4      2010.1월                                   Thailand   17814.0   \n...        ...                                        ...       ...   \n33385  2020.6월                               Burkina Faso       1.0   \n33386  2020.6월                                  St.Helena       NaN   \n33387  2020.6월                                    Reunion       NaN   \n33388  2020.6월                                    Eritrea       NaN   \n33389  2020.6월                                     others       NaN   \n\n                                               location  \n0                                                    日本  \n1                             臺灣, 信義鄉, 南投縣, 臺灣省, Taiwan  \n2                                                        \n3                                    澳門 Macau, China 中国  \n4                                             ประเทศไทย  \n...                                                 ...  \n33385                                      Burkina Faso  \n33386              Saint Helena, STHL 1ZZ, Saint Helena  \n33387                                La Réunion, France  \n33388                               ኤርትራ Eritrea إرتريا  \n33389  others, 当別浜益港線, 当別町, 石狩郡, 石狩振興局, 北海道, 日本 (Japan)  \n\n[33390 rows x 4 columns]",
      "text/html": "<div>\n<style scoped>\n    .dataframe tbody tr th:only-of-type {\n        vertical-align: middle;\n    }\n\n    .dataframe tbody tr th {\n        vertical-align: top;\n    }\n\n    .dataframe thead th {\n        text-align: right;\n    }\n</style>\n<table border=\"1\" class=\"dataframe\">\n  <thead>\n    <tr style=\"text-align: right;\">\n      <th></th>\n      <th>date</th>\n      <th>country</th>\n      <th>number</th>\n      <th>location</th>\n    </tr>\n  </thead>\n  <tbody>\n    <tr>\n      <th>0</th>\n      <td>2010.1월</td>\n      <td>Japan</td>\n      <td>209184.0</td>\n      <td>日本</td>\n    </tr>\n    <tr>\n      <th>1</th>\n      <td>2010.1월</td>\n      <td>Taiwan</td>\n      <td>36399.0</td>\n      <td>臺灣, 信義鄉, 南投縣, 臺灣省, Taiwan</td>\n    </tr>\n    <tr>\n      <th>2</th>\n      <td>2010.1월</td>\n      <td>Hong Kong, China(including Hong Kong ID.)</td>\n      <td>14545.0</td>\n      <td></td>\n    </tr>\n    <tr>\n      <th>3</th>\n      <td>2010.1월</td>\n      <td>Macao</td>\n      <td>554.0</td>\n      <td>澳門 Macau, China 中国</td>\n    </tr>\n    <tr>\n      <th>4</th>\n      <td>2010.1월</td>\n      <td>Thailand</td>\n      <td>17814.0</td>\n      <td>ประเทศไทย</td>\n    </tr>\n    <tr>\n      <th>...</th>\n      <td>...</td>\n      <td>...</td>\n      <td>...</td>\n      <td>...</td>\n    </tr>\n    <tr>\n      <th>33385</th>\n      <td>2020.6월</td>\n      <td>Burkina Faso</td>\n      <td>1.0</td>\n      <td>Burkina Faso</td>\n    </tr>\n    <tr>\n      <th>33386</th>\n      <td>2020.6월</td>\n      <td>St.Helena</td>\n      <td>NaN</td>\n      <td>Saint Helena, STHL 1ZZ, Saint Helena</td>\n    </tr>\n    <tr>\n      <th>33387</th>\n      <td>2020.6월</td>\n      <td>Reunion</td>\n      <td>NaN</td>\n      <td>La Réunion, France</td>\n    </tr>\n    <tr>\n      <th>33388</th>\n      <td>2020.6월</td>\n      <td>Eritrea</td>\n      <td>NaN</td>\n      <td>ኤርትራ Eritrea إرتريا</td>\n    </tr>\n    <tr>\n      <th>33389</th>\n      <td>2020.6월</td>\n      <td>others</td>\n      <td>NaN</td>\n      <td>others, 当別浜益港線, 当別町, 石狩郡, 石狩振興局, 北海道, 日本 (Japan)</td>\n    </tr>\n  </tbody>\n</table>\n<p>33390 rows × 4 columns</p>\n</div>"
     },
     "metadata": {},
     "execution_count": 157
    }
   ],
   "source": [
    "df"
   ]
  },
  {
   "cell_type": "code",
   "execution_count": 159,
   "metadata": {},
   "outputs": [],
   "source": [
    "df.to_csv(\"./전체국가통계_수정Ver_202006.csv\",index=False)"
   ]
  },
  {
   "cell_type": "code",
   "execution_count": null,
   "metadata": {},
   "outputs": [],
   "source": []
  },
  {
   "cell_type": "code",
   "execution_count": null,
   "metadata": {},
   "outputs": [],
   "source": []
  },
  {
   "cell_type": "code",
   "execution_count": 63,
   "metadata": {},
   "outputs": [],
   "source": [
    "from geopy.geocoders import Nominatim\n",
    "host='nominatim.openstreetmap.org'\n",
    "geolocator=Nominatim(domain=host, timeout=8, user_agent=\"ms.kim1\")\n",
    "location = geolocator.geocode('nigeria')\n",
    "location[0]"
   ]
  },
  {
   "cell_type": "code",
   "execution_count": 65,
   "metadata": {},
   "outputs": [],
   "source": []
  },
  {
   "cell_type": "code",
   "execution_count": 67,
   "metadata": {},
   "outputs": [
    {
     "output_type": "execute_result",
     "data": {
      "text/plain": "'Nigeria'"
     },
     "metadata": {},
     "execution_count": 67
    }
   ],
   "source": [
    "location[0]"
   ]
  }
 ]
}